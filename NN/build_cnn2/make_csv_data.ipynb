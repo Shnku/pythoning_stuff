{
  "nbformat": 4,
  "nbformat_minor": 0,
  "metadata": {
    "colab": {
      "provenance": [],
      "toc_visible": true,
      "gpuType": "T4",
      "include_colab_link": true
    },
    "kernelspec": {
      "name": "python3",
      "display_name": "Python 3"
    },
    "language_info": {
      "name": "python"
    }
  },
  "cells": [
    {
      "cell_type": "markdown",
      "metadata": {
        "id": "view-in-github",
        "colab_type": "text"
      },
      "source": [
        "<a href=\"https://colab.research.google.com/github/Shnku/pythoning_stuff/blob/proj/NN/build_cnn2/make_csv_data.ipynb\" target=\"_parent\"><img src=\"https://colab.research.google.com/assets/colab-badge.svg\" alt=\"Open In Colab\"/></a>"
      ]
    },
    {
      "cell_type": "code",
      "execution_count": null,
      "metadata": {
        "id": "ZCqx5F3PAFSI"
      },
      "outputs": [],
      "source": [
        "import os\n",
        "from google.colab import drive\n",
        "drive.mount('/content/drive')\n",
        "\n",
        "#shared path to drive\n",
        "SHARED_PATH=\"/content/drive/MyDrive/Classroom/ChandernagoreCollegeSemVI-Addon 2025 Sem VI Computer Science Honours/ChandernagoreCollegeSemVI-Addon 2025 Sem VI Computer Science Honours\"\n",
        "#direct path to drive\n",
        "DIRECT_PATH=\"/content/drive/MyDrive/Classroom/ChandernagoreCollegeSemVI-Addon 2025 Sem VI Computer Science Honours\"\n",
        "\n",
        "# Determine the data path based on the existence of shared or direct paths\n",
        "root_path = SHARED_PATH if os.path.exists(SHARED_PATH) else DIRECT_PATH if os.path.exists(DIRECT_PATH) else None\n",
        "\n",
        "DATA_PATH = ''\n",
        "# Print the chosen path or an error message\n",
        "if root_path:\n",
        "    DATA_PATH = root_path + \"/Proj2_Heritage_places_in_CGR_classify\"\n",
        "    print(f\"Using path: {root_path}\\n\\n{os.listdir(DATA_PATH)}\")\n",
        "else:\n",
        "    print(\"Neither shared nor direct path exists. Please check the paths.\")\n"
      ]
    },
    {
      "cell_type": "code",
      "source": [
        "import pandas as pd\n",
        "from IPython.display import display\n",
        "\n",
        "root_dir = DATA_PATH+'/Data'\n",
        "image_dict = {}\n",
        "for folder in os.listdir(root_dir):\n",
        "    folder_path = os.path.join(root_dir, folder)\n",
        "    if os.path.isdir(folder_path):\n",
        "        image_dict[folder] = []\n",
        "        for filename in os.listdir(folder_path):\n",
        "            # if filename.lower().endswith(('.png', '.jpg', '.jpeg')):\n",
        "            rel_path = folder_path.split('/')\n",
        "            image_path = os.path.join('/',rel_path[-2], rel_path[-1],filename)\n",
        "            image_dict[folder].append(image_path)\n",
        "\n",
        "data = []\n",
        "for class_name, images in image_dict.items():\n",
        "    for img_path in images:\n",
        "        data.append({ 'path': img_path,'class': class_name})\n",
        "\n",
        "df = pd.DataFrame(data)\n",
        "\n",
        "# print(image_dict.keys)\n",
        "# print(data)\n",
        "print(df)\n",
        "print(df.describe())"
      ],
      "metadata": {
        "id": "Rb6zuNg6UzSs"
      },
      "execution_count": null,
      "outputs": []
    },
    {
      "source": [
        "import os\n",
        "\n",
        "full_path = \"/content/drive/MyDrive/Classroom/ChandernagoreCollegeSemVI-Addon 2025 Sem VI Computer Science Honours/Proj2_Heritage_places_in_CGR_classify/Data/mondir\"\n",
        "\n",
        "# Get the directory name and the base name\n",
        "dirname, basename = os.path.split(full_path)\n",
        "print(dirname)\n",
        "print(basename)\n",
        "\n",
        "# Get the parent directory of the base name\n",
        "parent_dirname = os.path.basename(dirname)\n",
        "print(parent_dirname)\n",
        "# Combine the parent directory and the base name\n",
        "desired_path = os.path.join(parent_dirname, basename)\n",
        "\n",
        "print(desired_path)"
      ],
      "cell_type": "code",
      "metadata": {
        "id": "0eFR2wcUeuUK"
      },
      "execution_count": null,
      "outputs": []
    },
    {
      "cell_type": "code",
      "source": [
        "# save csv data\n",
        "df.to_csv(DATA_PATH+'/data.csv', index=False)\n",
        "os.listdir(DATA_PATH)"
      ],
      "metadata": {
        "id": "pjJtm1r6FQVA"
      },
      "execution_count": null,
      "outputs": []
    },
    {
      "source": [
        "import seaborn as sns\n",
        "import matplotlib.pyplot as plt\n",
        "\n",
        "plt.figure(figsize=(4, 3))\n",
        "ax = sns.countplot(y='class', data=df, hue='class', palette='deep',order=sorted(df['class'].unique()))\n",
        "\n",
        "# Add bar counts\n",
        "for container in ax.containers:\n",
        "    ax.bar_label(container, fmt='%d')\n",
        "\n",
        "plt.show()"
      ],
      "cell_type": "code",
      "metadata": {
        "id": "1tpMNWpTXoM3"
      },
      "execution_count": null,
      "outputs": []
    },
    {
      "cell_type": "code",
      "source": [
        "from sklearn.model_selection import train_test_split\n",
        "\n",
        "# splitting a dataset in such a way that the proportion of samples in each class is the same across the training and testing sets.\n",
        "train_df, test_df = train_test_split(df, test_size=0.2, random_state=42, stratify=df['class'])\n",
        "\n",
        "print('------------',len(train_df),'----------------')\n",
        "display(train_df.head())\n",
        "print('------------',len(test_df),'----------------')\n",
        "display(test_df.head())\n",
        "\n",
        "# save train and test data csv\n",
        "train_df.to_csv(DATA_PATH+'/train_df.csv', index=False)\n",
        "test_df.to_csv(DATA_PATH+'/test_df.csv', index=False)"
      ],
      "metadata": {
        "id": "0TcabSfBWIKu"
      },
      "execution_count": null,
      "outputs": []
    },
    {
      "source": [
        "def plot_class_distribution(data, ax, title, max_count, class_order, palette):\n",
        "    sns.countplot(y='class', data=data, hue='class', palette=palette, ax=ax, hue_order=class_order, order=class_order)\n",
        "    ax.set_title(title)\n",
        "    ax.set_xlim(0, max_count)\n",
        "    for brs in ax.containers:\n",
        "        ax.bar_label(brs, fmt='=%d')\n",
        "\n",
        "# Calculate the maximum count across all splits\n",
        "max_count = 2.5 + max(\n",
        "    train_df['class'].value_counts().max(),\n",
        "    test_df['class'].value_counts().max()\n",
        ")\n",
        "\n",
        "# Create the subplots\n",
        "fig, axes = plt.subplots(1, 2, figsize=(6, 3))\n",
        "# Get the unique class names in the desired order (e.g., alphabetical)\n",
        "class_order = sorted(df['class'].unique())\n",
        "consistent_palette = sns.color_palette(\"Dark2\", n_colors=len(class_order))\n",
        "\n",
        "# Use the function to plot the distributions\n",
        "plot_class_distribution(train_df, axes[0], title='Stratified Train Split', max_count=max_count, class_order=class_order, palette=consistent_palette)\n",
        "plot_class_distribution(train_df, axes[1], title='Stratified Test Split', max_count=max_count, class_order=class_order, palette=consistent_palette)\n",
        "\n",
        "plt.tight_layout()\n",
        "plt.show()"
      ],
      "cell_type": "code",
      "metadata": {
        "id": "6mYgsv44pZNt"
      },
      "execution_count": null,
      "outputs": []
    },
    {
      "cell_type": "code",
      "source": [],
      "metadata": {
        "id": "tOQUH9LsfedM"
      },
      "execution_count": null,
      "outputs": []
    }
  ]
}