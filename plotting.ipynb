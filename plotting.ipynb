{
 "cells": [
  {
   "cell_type": "code",
   "execution_count": 3,
   "id": "e3e62d95",
   "metadata": {},
   "outputs": [],
   "source": [
    "# %matplotlib inline"
   ]
  },
  {
   "cell_type": "code",
   "execution_count": 1,
   "id": "662fe8e6",
   "metadata": {},
   "outputs": [
    {
     "data": {
      "application/vnd.jupyter.widget-view+json": {
       "model_id": "a04f3c4ab3c54eaeaf0ceb27368fa4f5",
       "version_major": 2,
       "version_minor": 0
      },
      "text/plain": [
       "interactive(children=(FloatSlider(value=1.0, description='Slope (m):', max=10.0, min=-10.0, step=1.0), FloatSl…"
      ]
     },
     "execution_count": 1,
     "metadata": {},
     "output_type": "execute_result"
    }
   ],
   "source": [
    "import numpy as np\n",
    "import matplotlib.pyplot as plt\n",
    "import ipywidgets as widgets\n",
    "import mplcursors\n",
    "from IPython.display import display\n",
    "\n",
    "# Function to plot the line\n",
    "def plot_line(m, c):\n",
    "    x = np.linspace(-10, 10, 100)  # Generate x values\n",
    "    y = m * x + c  # Calculate y values based on the equation y = mx + c\n",
    "    \n",
    "    plt.figure(figsize=(4, 3))\n",
    "    line, = plt.plot(x, y, label=f'y = {m}x + {c}', color='blue')\n",
    "    plt.axhline(0, color='black', lw=0.5, ls='--')  # x-axis\n",
    "    plt.axvline(0, color='black', lw=0.5, ls='--')  # y-axis\n",
    "    plt.xlim(-10, 10)\n",
    "    plt.ylim(-10, 10)\n",
    "    plt.title('Plot of y = mx + c')\n",
    "    plt.xlabel('x')\n",
    "    plt.ylabel('y')\n",
    "    plt.grid()\n",
    "    plt.legend()\n",
    "    \n",
    "    # Use mplcursors to show coordinates on hover\n",
    "    mplcursors.cursor(line, hover=True)\n",
    "    # Calculate intercept points\n",
    "    y_intercept = c  # (0, c)\n",
    "    x_intercept = -c / m if m != 0 else None  # (-c/m, 0) if m is not zero\n",
    "    \n",
    "    # Plot and annotate the intercept points\n",
    "    plt.scatter(0, y_intercept, color='red')  # y-intercept\n",
    "    plt.annotate(f'Y-Intercept (0, {y_intercept})', xy=(0, y_intercept), xytext=(1, y_intercept + 2))\n",
    "    if x_intercept is not None:\n",
    "        plt.scatter(x_intercept, 0, color='green')  # x-intercept\n",
    "        plt.annotate(f'X-Intercept ({x_intercept:.2f}, 0)', xy=(x_intercept, 0), xytext=(x_intercept + 1, 1))\n",
    "    \n",
    "    plt.show()\n",
    "\n",
    "# Create sliders for m and c\n",
    "m_slider = widgets.FloatSlider(value=1, min=-10, max=10, step=1, description='Slope (m):')\n",
    "c_slider = widgets.FloatSlider(value=0, min=-10, max=10, step=1, description='Intercept (c):')\n",
    "\n",
    "# Use interactive to link sliders to the plot function\n",
    "widgets.interactive(plot_line, m=m_slider, c=c_slider)\n"
   ]
  },
  {
   "cell_type": "code",
   "execution_count": null,
   "id": "5dbe566e",
   "metadata": {},
   "outputs": [],
   "source": []
  },
  {
   "cell_type": "code",
   "execution_count": null,
   "id": "e3bbe192-c473-4045-b28e-b11c7fbce742",
   "metadata": {},
   "outputs": [],
   "source": []
  }
 ],
 "metadata": {
  "kernelspec": {
   "display_name": "Python 3 (ipykernel)",
   "language": "python",
   "name": "python3"
  },
  "language_info": {
   "codemirror_mode": {
    "name": "ipython",
    "version": 3
   },
   "file_extension": ".py",
   "mimetype": "text/x-python",
   "name": "python",
   "nbconvert_exporter": "python",
   "pygments_lexer": "ipython3",
   "version": "3.11.11"
  },
  "widgets": {
   "application/vnd.jupyter.widget-state+json": {
    "state": {},
    "version_major": 2,
    "version_minor": 0
   }
  }
 },
 "nbformat": 4,
 "nbformat_minor": 5
}
