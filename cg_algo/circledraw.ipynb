{
 "cells": [
  {
   "cell_type": "markdown",
   "id": "fcf64865-6dc5-4a9c-af46-d9751224109d",
   "metadata": {},
   "source": [
    "# Circle Drawing Algorithms\n",
    "\n",
    " **Circle Equation**: \n",
    "   For any point (x, y) on the circle centered at $(x_{center}  \\ , y_{center})$ with radius `r`:  \n",
    "   \n",
    "   $x^2 + y^2 = (x_{center} - r)^2 + (y_{center} - r)^2$\n"
   ]
  },
  {
   "cell_type": "code",
   "execution_count": 23,
   "id": "9e137225-dae1-4598-be50-c6a60ec419a1",
   "metadata": {},
   "outputs": [],
   "source": [
    "import math\n",
    "\n",
    "import matplotlib.pyplot as plt\n",
    "import numpy as np\n",
    "\n",
    "%matplotlib inline\n",
    "\n",
    "\n",
    "def draw(x, y, size=70, log=False):  # function for grid plotting\n",
    "    mx, my = max(x), max(y)\n",
    "    grid_shape = (mx + 1, my + 1)\n",
    "    grid = np.ones(grid_shape)\n",
    "    for i, j in zip(x, y):\n",
    "        grid[i][j] = 0\n",
    "    if log:  # weather to show np array & flip array\n",
    "        print(\"after filling\\n\", grid, \"\\nafter mirror/flip\")\n",
    "    grid = grid.T\n",
    "    if log:\n",
    "        print(grid[::-1, :])\n",
    "    plt.figure(figsize=(mx, my / 2), dpi=size)  # now plotting\n",
    "\n",
    "    plt.subplot(1, 2, 1)\n",
    "    plt.plot(x, y), plt.scatter(x, y)\n",
    "\n",
    "    plt.subplot(1, 2, 2), plt.scatter(x, y)\n",
    "    plt.imshow(grid, cmap=\"gray\", origin=\"lower\")\n",
    "    # plt.xlim(min(x) - 1, mx + 1)  # Set x-axis limits for the image plot\n",
    "    # plt.ylim(min(y) - 1, my + 1)"
   ]
  },
  {
   "cell_type": "markdown",
   "id": "ed92e980-5098-448b-8859-679bffb22624",
   "metadata": {},
   "source": [
    "##  Midpoint Circle Drawing Algorithm\n",
    "\n",
    "For any given pixel $(x, y)$, the next pixel to be plotted is either $(x, y+1)$ or $(x-1, y+1)$. This can be decided by following the steps below.  \n",
    "\n",
    "* Find the mid-point `p` of the two possible pixels $i.e (x-0.5, y+1)$\n",
    "* If $p$ lies inside or on the circle perimeter, we plot the pixel $(x, y+1)$, otherwise if it's outside we plot the pixel $(x-1, y+1)$\n",
    "\n",
    "\n"
   ]
  },
  {
   "cell_type": "code",
   "execution_count": 24,
   "id": "672caf69-36e2-4002-a749-f2ff315a1d64",
   "metadata": {},
   "outputs": [],
   "source": [
    "def midpoint(x_center, y_center, radius):\n",
    "    f = 1 - radius\n",
    "    ddF_x = 1\n",
    "    ddF_y = -2 * radius\n",
    "    x = 0\n",
    "    y = radius\n",
    "    xl, yl = [0], [radius]\n",
    "    while x < y:\n",
    "        # Draw pixel at (x_center + x, y_center + y)\n",
    "        # Draw pixel at (x_center + x, y_center - y)\n",
    "        # Draw pixel at (x_center - x, y_center + y)\n",
    "        # Draw pixel at (x_center - x, y_center - y)\n",
    "        if f > 0:\n",
    "            y -= 1\n",
    "            f += ddF_y\n",
    "            ddF_y += 2\n",
    "\n",
    "        x += 1\n",
    "        f += ddF_x\n",
    "        ddF_x += 2\n",
    "        xl.append(x), yl.append(y)\n",
    "    print(xl, yl, sep=\"\\n\")\n",
    "    return xl, yl"
   ]
  },
  {
   "cell_type": "code",
   "execution_count": 25,
   "id": "1f6c6b02-b8f8-4895-959f-0b0a6e6bacb5",
   "metadata": {
    "scrolled": true
   },
   "outputs": [
    {
     "name": "stdout",
     "output_type": "stream",
     "text": [
      "6.708203932499369\n",
      "[0, 1, 2, 3, 4, 5]\n",
      "[6, 6, 6, 6, 5, 5]\n",
      "after filling\n",
      " [[1. 1. 1. 1. 1. 1. 0.]\n",
      " [1. 1. 1. 1. 1. 1. 0.]\n",
      " [1. 1. 1. 1. 1. 1. 0.]\n",
      " [1. 1. 1. 1. 1. 1. 0.]\n",
      " [1. 1. 1. 1. 1. 0. 1.]\n",
      " [1. 1. 1. 1. 1. 0. 1.]] \n",
      "after mirror/flip\n",
      "[[0. 0. 0. 0. 1. 1.]\n",
      " [1. 1. 1. 1. 0. 0.]\n",
      " [1. 1. 1. 1. 1. 1.]\n",
      " [1. 1. 1. 1. 1. 1.]\n",
      " [1. 1. 1. 1. 1. 1.]\n",
      " [1. 1. 1. 1. 1. 1.]\n",
      " [1. 1. 1. 1. 1. 1.]]\n"
     ]
    },
    {
     "data": {
      "image/png": "[encoded data removed]",
      "text/plain": [
       "<Figure size 350x210 with 2 Axes>"
      ]
     },
     "metadata": {},
     "output_type": "display_data"
    }
   ],
   "source": [
    "x1, y1 = 2, 2\n",
    "x2, y2 = 8, 5\n",
    "radius = math.sqrt((x2 - x1) ** 2 + (y2 - y1) ** 2)\n",
    "print(radius)\n",
    "x, y = midpoint(x1, y1, int(radius))\n",
    "draw(x, y, log=True)"
   ]
  },
  {
   "cell_type": "markdown",
   "id": "7e0d0cb8-4d22-4817-99ed-dc82ed012daf",
   "metadata": {},
   "source": [
    "i think i should just provide raduis and tahe the center as (0,0)  \n",
    "because during drawing we have to shift it to center .. then translate back to its original position"
   ]
  },
  {
   "cell_type": "code",
   "execution_count": 26,
   "id": "7cc38016-9808-4485-ba5e-b9683db40aec",
   "metadata": {},
   "outputs": [
    {
     "name": "stdout",
     "output_type": "stream",
     "text": [
      "[0, 1, 2, 3, 4, 5]\n",
      "[6, 6, 6, 6, 5, 5]\n"
     ]
    },
    {
     "data": {
      "image/png": "[encoded data removed]",
      "text/plain": [
       "<Figure size 350x210 with 2 Axes>"
      ]
     },
     "metadata": {},
     "output_type": "display_data"
    }
   ],
   "source": [
    "r = 6\n",
    "x, y = midpoint(0, 0, r)\n",
    "draw(x, y)"
   ]
  },
  {
   "cell_type": "code",
   "execution_count": 35,
   "id": "fe0c6d0e-2126-4034-a4fc-d87700dc1980",
   "metadata": {},
   "outputs": [
    {
     "name": "stdout",
     "output_type": "stream",
     "text": [
      "18 18\n",
      "[-1, -2, -3, 5, 6, 7, 8, 9, 0, -1, -2, -3, 5, 6, 7, 8, 9, 0] [-1, -2, -3, 5, 6, 7, 8, 9, 0, -1, -2, -3, 5, 6, 7, 8, 9, 0]\n"
     ]
    },
    {
     "data": {
      "image/png": "[encoded data removed]",
      "text/plain": [
       "<Figure size 630x315 with 2 Axes>"
      ]
     },
     "metadata": {},
     "output_type": "display_data"
    }
   ],
   "source": [
    "xall = x + y\n",
    "yall = y + x\n",
    "print(len(xall), len(yall))\n",
    "print(xall, yall)\n",
    "draw(xall, yall)"
   ]
  },
  {
   "cell_type": "markdown",
   "id": "c41861c3-27bb-4303-8bb9-1833b0d18383",
   "metadata": {},
   "source": [
    "## Brasenhams Circle Drawing"
   ]
  },
  {
   "cell_type": "code",
   "execution_count": null,
   "id": "cfc323da-fbe4-4754-a196-c1ec4135feba",
   "metadata": {},
   "outputs": [],
   "source": []
  }
 ],
 "metadata": {
  "@deathbeds/jupyterlab-fonts": {
   "styles": {
    ":root": {
     "--jp-content-font-size1": "18px"
    }
   }
  },
  "kernelspec": {
   "display_name": "Python 3 (ipykernel)",
   "language": "python",
   "name": "python3"
  },
  "language_info": {
   "codemirror_mode": {
    "name": "ipython",
    "version": 3
   },
   "file_extension": ".py",
   "mimetype": "text/x-python",
   "name": "python",
   "nbconvert_exporter": "python",
   "pygments_lexer": "ipython3",
   "version": "3.11.12"
  },
  "widgets": {
   "application/vnd.jupyter.widget-state+json": {
    "state": {},
    "version_major": 2,
    "version_minor": 0
   }
  }
 },
 "nbformat": 4,
 "nbformat_minor": 5
}
