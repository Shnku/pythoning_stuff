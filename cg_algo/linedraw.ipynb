{
 "cells": [
  {
   "cell_type": "markdown",
   "id": "4dec3dc2-9b7c-4bca-8008-ad55d98201cd",
   "metadata": {},
   "source": [
    "# DAA line drawing algo\n",
    "$y=mx+c$ \\\n",
    "here, $m=\\dfrac{y_2-y_1}{x_2-x_1}$"
   ]
  },
  {
   "cell_type": "code",
   "execution_count": 1,
   "id": "6880b656-2fb4-4144-a047-9477af3f9b99",
   "metadata": {},
   "outputs": [],
   "source": [
    "import matplotlib.pyplot as plt\n",
    "import numpy as np"
   ]
  },
  {
   "cell_type": "code",
   "execution_count": null,
   "id": "50bfd631-3470-4d69-8bc0-39d3374bd7db",
   "metadata": {},
   "outputs": [],
   "source": []
  }
 ],
 "metadata": {
  "kernelspec": {
   "display_name": "Python 3 (ipykernel)",
   "language": "python",
   "name": "python3"
  },
  "language_info": {
   "codemirror_mode": {
    "name": "ipython",
    "version": 3
   },
   "file_extension": ".py",
   "mimetype": "text/x-python",
   "name": "python",
   "nbconvert_exporter": "python",
   "pygments_lexer": "ipython3",
   "version": "3.11.11"
  },
  "widgets": {
   "application/vnd.jupyter.widget-state+json": {
    "state": {},
    "version_major": 2,
    "version_minor": 0
   }
  }
 },
 "nbformat": 4,
 "nbformat_minor": 5
}
