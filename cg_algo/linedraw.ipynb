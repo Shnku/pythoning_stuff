{
 "cells": [
  {
   "cell_type": "markdown",
   "id": "4dec3dc2-9b7c-4bca-8008-ad55d98201cd",
   "metadata": {},
   "source": [
    "# DAA line drawing algo\n",
    "$y=mx+c$ \\\n",
    "here, $m=\\dfrac{y_2-y_1}{x_2-x_1}$"
   ]
  },
  {
   "cell_type": "code",
   "execution_count": 1,
   "id": "6880b656-2fb4-4144-a047-9477af3f9b99",
   "metadata": {},
   "outputs": [
    {
     "name": "stderr",
     "output_type": "stream",
     "text": [
      "Matplotlib is building the font cache; this may take a moment.\n"
     ]
    }
   ],
   "source": [
    "import matplotlib.pyplot as plt\n",
    "import numpy as np\n",
    "\n",
    "%matplotlib inline"
   ]
  },
  {
   "cell_type": "code",
   "execution_count": 2,
   "id": "50bfd631-3470-4d69-8bc0-39d3374bd7db",
   "metadata": {},
   "outputs": [],
   "source": [
    "def DAA(x1, x2, y1, y2):\n",
    "    dy, dx = (y2 - y1), (x2 - x1)\n",
    "    m = dy / dx\n",
    "    print(m)\n",
    "    x, y = [x1], [y1]\n",
    "    for i in range(dx):\n",
    "        x1 += 1\n",
    "        y1 += m\n",
    "        x.append(x1)\n",
    "        y.append(int(y1))\n",
    "\n",
    "    print(x, y, sep=\"\\n\")\n",
    "    return x, y"
   ]
  },
  {
   "cell_type": "code",
   "execution_count": 5,
   "id": "c082d99d",
   "metadata": {},
   "outputs": [
    {
     "name": "stdout",
     "output_type": "stream",
     "text": [
      "0.7142857142857143\n",
      "[3, 4, 5, 6, 7, 8, 9, 10]\n",
      "[3, 3, 4, 5, 5, 6, 7, 8]\n"
     ]
    },
    {
     "data": {
      "image/png": "[encoded data removed]",
      "text/plain": [
       "<Figure size 448x336 with 1 Axes>"
      ]
     },
     "metadata": {},
     "output_type": "display_data"
    }
   ],
   "source": [
    "x1, x2, y1, y2 = (3, 10, 3, 8)\n",
    "x, y = DAA(x1, x2, y1, y2)\n",
    "\n",
    "plt.figure(dpi=70)\n",
    "plt.scatter(x, y)\n",
    "plt.plot(x, y)\n",
    "plt.grid(True)"
   ]
  },
  {
   "cell_type": "markdown",
   "id": "616a080b",
   "metadata": {},
   "source": [
    "## Creating a grid filling class"
   ]
  },
  {
   "cell_type": "code",
   "execution_count": 36,
   "id": "0b706cbb",
   "metadata": {},
   "outputs": [],
   "source": [
    "class GridDraw:\n",
    "    def __init__(self, width, height):\n",
    "        self.width = width\n",
    "        self.height = height\n",
    "        self.grid = np.zeros((height, width))\n",
    "\n",
    "    def fill(self, x, y, value=1):\n",
    "        if x < self.width and y < self.height:\n",
    "            self.grid[y, x] = value\n",
    "        else:\n",
    "            print(f\"Coordinates ({x}, {y}) out of bounds.\")\n",
    "\n",
    "    def display(self):\n",
    "        plt.imshow(self.grid, cmap=\"binary\", origin=\"lower\")\n",
    "        plt.title(f\" {self.width}x{self.height}\")\n",
    "        plt.show()\n"
   ]
  },
  {
   "cell_type": "code",
   "execution_count": 37,
   "id": "e944018d",
   "metadata": {},
   "outputs": [
    {
     "name": "stdout",
     "output_type": "stream",
     "text": [
      "0.7142857142857143\n",
      "[3, 4, 5, 6, 7, 8, 9, 10]\n",
      "[3, 3, 4, 5, 5, 6, 7, 8]\n",
      "3 3\n",
      "4 3\n",
      "5 4\n",
      "6 5\n",
      "7 5\n",
      "8 6\n",
      "9 7\n",
      "10 8\n",
      "Coordinates (10, 8) out of bounds.\n"
     ]
    },
    {
     "data": {
      "image/png": "[encoded data removed]",
      "text/plain": [
       "<Figure size 640x480 with 1 Axes>"
      ]
     },
     "metadata": {},
     "output_type": "display_data"
    }
   ],
   "source": [
    "x1, x2, y1, y2 = (3, 10, 3, 8)\n",
    "x, y = DAA(x1, x2, y1, y2)\n",
    "\n",
    "grid = GridDraw(x2, y2)\n",
    "for i, j in zip(x, y):\n",
    "    print(i, j)\n",
    "    grid.fill(i, j)\n",
    "grid.display()"
   ]
  },
  {
   "cell_type": "code",
   "execution_count": null,
   "id": "a9a4940c",
   "metadata": {},
   "outputs": [],
   "source": []
  }
 ],
 "metadata": {
  "kernelspec": {
   "display_name": ".venv",
   "language": "python",
   "name": "python3"
  },
  "language_info": {
   "codemirror_mode": {
    "name": "ipython",
    "version": 3
   },
   "file_extension": ".py",
   "mimetype": "text/x-python",
   "name": "python",
   "nbconvert_exporter": "python",
   "pygments_lexer": "ipython3",
   "version": "3.11.12"
  },
  "widgets": {
   "application/vnd.jupyter.widget-state+json": {
    "state": {},
    "version_major": 2,
    "version_minor": 0
   }
  }
 },
 "nbformat": 4,
 "nbformat_minor": 5
}
