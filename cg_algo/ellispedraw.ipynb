{
 "cells": [
  {
   "cell_type": "markdown",
   "id": "6a3273e1",
   "metadata": {
    "id": "6a3273e1"
   },
   "source": [
    "# Ellispe Drawing Algorithms\n",
    "\n",
    "**Ellipse Equation**:\n",
    "For any point (x, y) on an ellipse centered at $(h, k)$ with semi-major axis `a` and semi-minor axis `b`, the equation is:\n",
    "\n",
    "$\\frac{(x-h)^2}{a^2} + \\frac{(y-k)^2}{b^2} = 1$\n",
    "\n",
    "In the case where the center is at the origin (0,0), the equation simplifies to:\n",
    "\n",
    "$\\frac{x^2}{a^2} + \\frac{y^2}{b^2} = 1$"
   ]
  },
  {
   "cell_type": "code",
   "execution_count": 3,
   "id": "9e137225-dae1-4598-be50-c6a60ec419a1",
   "metadata": {
    "id": "9e137225-dae1-4598-be50-c6a60ec419a1"
   },
   "outputs": [],
   "source": [
    "import math\n",
    "\n",
    "import matplotlib.pyplot as plt\n",
    "import numpy as np\n",
    "\n",
    "%matplotlib inline\n",
    "\n",
    "\n",
    "def draw(all_x, all_y, size=70, log=False):  # function for grid plotting\n",
    "    # Find the min and max values to determine grid size and offset\n",
    "    min_x = min(all_x)\n",
    "    max_x = max(all_x)\n",
    "    min_y = min(all_y)\n",
    "    max_y = max(all_y)\n",
    "\n",
    "    # Calculate the offset to handle negative coordinates\n",
    "    x_offset = -min_x\n",
    "    y_offset = -min_y\n",
    "\n",
    "    # Determine the grid dimensions\n",
    "    grid_width = max_x - min_x + 1\n",
    "    grid_height = max_y - min_y + 1\n",
    "\n",
    "    # Create an empty grid (e.g., filled with zeros or ones)\n",
    "    grid = np.zeros(\n",
    "        (grid_height, grid_width), dtype=int\n",
    "    )  # Use zeros to indicate no point initially\n",
    "\n",
    "    # Fill the grid with points\n",
    "    for i in range(len(all_x)):\n",
    "        # Apply the offset to get the correct grid index\n",
    "        grid_x = all_x[i] + x_offset\n",
    "        grid_y = all_y[i] + y_offset\n",
    "\n",
    "        # Set the value at the corresponding grid index (e.g., to 1)\n",
    "        grid[grid_y, grid_x] = 1  # Note: imshow displays rows as y and columns as x\n",
    "\n",
    "    plt.figure(figsize=(8, 8), dpi=size)\n",
    "    plt.imshow(\n",
    "        grid,\n",
    "        cmap=\"gray_r\",\n",
    "        origin=\"lower\",\n",
    "        extent=[min_x - 0.5, max_x + 0.5, min_y - 0.5, max_y + 0.5],\n",
    "    )  # Set extent\n",
    "\n",
    "    plt.title(\"Points on a Grid\")\n",
    "    plt.plot([0, 0], [min_y, max_y])\n",
    "    plt.plot([min_x, max_x], [0, 0])\n",
    "    # plt.plot([min_x, max_x], [min_y, max_y])\n",
    "    # plt.plot([min_x, max_x], [max_y, min_y])\n",
    "    plt.xlabel(\"X-axis (offset)\")\n",
    "    plt.ylabel(\"Y-axis (offset)\")\n",
    "    plt.show()"
   ]
  },
  {
   "cell_type": "markdown",
   "id": "CFQzP-wgfgNp",
   "metadata": {
    "id": "CFQzP-wgfgNp"
   },
   "source": [
    "## Midpoint Ellipse Drawing Algorithm\n",
    "\n",
    "The Midpoint Ellipse Algorithm is an algorithm used for drawing ellipses on a computer screen. It is similar in concept to the Midpoint Circle Algorithm.\n",
    "\n",
    "Starting from a point $(x, y)$, the algorithm determines the next pixel to plot by evaluating a decision parameter at the midpoint between two potential candidate pixels. The decision parameter is based on the ellipse equation $\\frac{x^2}{a^2} + \\frac{y^2}{b^2} = 1$.\n",
    "\n",
    "The algorithm typically divides the ellipse into two regions and uses different decision parameters for each region to maintain accurate plotting."
   ]
  },
  {
   "cell_type": "markdown",
   "id": "MHiFeVKpfowJ",
   "metadata": {
    "id": "MHiFeVKpfowJ"
   },
   "source": [
    "### algo"
   ]
  },
  {
   "cell_type": "markdown",
   "id": "fa5b7ca2",
   "metadata": {
    "id": "fa5b7ca2"
   },
   "source": [
    "\n",
    "\n",
    "\n",
    "**Initialization:**\n",
    "\n",
    "- Start with the first point (x, y) = (0, b).\n",
    "\n",
    "- Calculate the initial decision parameter for region 1:  \n",
    "$p1 = b^2 + a^2/4 - a^2b$\n",
    "\n",
    "**Region 1:**\n",
    "\n",
    "- while $2b^2x <= 2a^2y:$\n",
    "\n",
    " - If $p1 < 0:$   \n",
    "    - the next point is $(x+1, y),$   \n",
    "    - and $p1 = p1 + 2b^2x + 3b^2$\n",
    "\n",
    " - $else:$\n",
    "    - The next point is $(x+1, y-1)$,   \n",
    "    - and $p1 = p1 + 2b^2x - 2a^2y + 3b^2 + 2a^2$   \n",
    "    - Update $x = x + 1$ and $y = y - 1$ if necessary.   \n",
    "    - Plot the current point $(x, y)$ and its mirrored points $(x, -y), (-x, y), (-x, -y).$\n",
    "\n",
    "**Region 2:**\n",
    "\n",
    "- Calculate the initial decision parameter for region 2:   \n",
    "$p2 = b^2(x + 1/2)^2 + a^2(y - 1)^2 - a^2b^2$\n",
    "\n",
    "- while $y > 0:$\n",
    "\n",
    "    - If $p2 > 0,$   \n",
    "     - the next point is $(x, y - 1),$  \n",
    "     - and  $p2 = p2 - 2a^2y + 3a^2$\n",
    "\n",
    "    - $else:$  \n",
    "     - The next point is $(x + 1, y - 1),$  \n",
    "     - and $p2 = p2 + 2b^2x - 2a^2y + 3a^2 + 2b^2$   \n",
    "     - Update $x = x + 1$ and $y = y - 1$ if necessary.   \n",
    "     - Plot the current point $(x, y)$ and its mirrored points $(x, -y), (-x, y), (-x, -y).$\n"
   ]
  },
  {
   "cell_type": "markdown",
   "id": "qv3_iXzufl27",
   "metadata": {
    "id": "qv3_iXzufl27"
   },
   "source": [
    "### code"
   ]
  },
  {
   "cell_type": "code",
   "execution_count": 4,
   "id": "2b413bbe",
   "metadata": {
    "colab": {
     "base_uri": "https://localhost:8080/",
     "height": 1000
    },
    "id": "2b413bbe",
    "outputId": "a1a131ab-fef2-461f-838d-46daa2848da2"
   },
   "outputs": [
    {
     "name": "stdout",
     "output_type": "stream",
     "text": [
      "( 50 , 65 )\n",
      "( 50 , 65 )\n",
      "( 50 , 35 )\n",
      "( 50 , 35 )\n",
      "( 51 , 65 )\n",
      "( 49 , 65 )\n",
      "( 51 , 35 )\n",
      "( 49 , 35 )\n",
      "( 52 , 65 )\n",
      "( 48 , 65 )\n",
      "( 52 , 35 )\n",
      "( 48 , 35 )\n",
      "( 53 , 64 )\n",
      "( 47 , 64 )\n",
      "( 53 , 36 )\n",
      "( 47 , 36 )\n",
      "( 54 , 64 )\n",
      "( 46 , 64 )\n",
      "( 54 , 36 )\n",
      "( 46 , 36 )\n",
      "( 55 , 63 )\n",
      "( 45 , 63 )\n",
      "( 55 , 37 )\n",
      "( 45 , 37 )\n",
      "( 56 , 62 )\n",
      "( 44 , 62 )\n",
      "( 56 , 38 )\n",
      "( 44 , 38 )\n",
      "( 57 , 61 )\n",
      "( 43 , 61 )\n",
      "( 57 , 39 )\n",
      "( 43 , 39 )\n",
      "( 57 , 60 )\n",
      "( 43 , 60 )\n",
      "( 57 , 40 )\n",
      "( 43 , 40 )\n",
      "( 58 , 59 )\n",
      "( 42 , 59 )\n",
      "( 58 , 41 )\n",
      "( 42 , 41 )\n",
      "( 58 , 58 )\n",
      "( 42 , 58 )\n",
      "( 58 , 42 )\n",
      "( 42 , 42 )\n",
      "( 59 , 57 )\n",
      "( 41 , 57 )\n",
      "( 59 , 43 )\n",
      "( 41 , 43 )\n",
      "( 59 , 56 )\n",
      "( 41 , 56 )\n",
      "( 59 , 44 )\n",
      "( 41 , 44 )\n",
      "( 59 , 55 )\n",
      "( 41 , 55 )\n",
      "( 59 , 45 )\n",
      "( 41 , 45 )\n",
      "( 60 , 54 )\n",
      "( 40 , 54 )\n",
      "( 60 , 46 )\n",
      "( 40 , 46 )\n",
      "( 60 , 53 )\n",
      "( 40 , 53 )\n",
      "( 60 , 47 )\n",
      "( 40 , 47 )\n",
      "( 60 , 52 )\n",
      "( 40 , 52 )\n",
      "( 60 , 48 )\n",
      "( 40 , 48 )\n",
      "( 60 , 51 )\n",
      "( 40 , 51 )\n",
      "( 60 , 49 )\n",
      "( 40 , 49 )\n",
      "( 60 , 50 )\n",
      "( 40 , 50 )\n",
      "( 60 , 50 )\n",
      "( 40 , 50 )\n",
      "[0, 0, 0, 0, 1, -1, 1, -1, 2, -2, 2, -2, 3, -3, 3, -3, 4, -4, 4, -4, 5, -5, 5, -5, 6, -6, 6, -6, 7, -7, 7, -7, 7, -7, 7, -7, 8, -8, 8, -8, 8, -8, 8, -8, 9, -9, 9, -9, 9, -9, 9, -9, 9, -9, 9, -9, 10, -10, 10, -10, 10, -10, 10, -10, 10, -10, 10, -10, 10, -10, 10, -10, 10, -10, 10, -10]\n",
      "[15, 15, -15, -15, 15, 15, -15, -15, 15, 15, -15, -15, 14, 14, -14, -14, 14, 14, -14, -14, 13, 13, -13, -13, 12, 12, -12, -12, 11, 11, -11, -11, 10, 10, -10, -10, 9, 9, -9, -9, 8, 8, -8, -8, 7, 7, -7, -7, 6, 6, -6, -6, 5, 5, -5, -5, 4, 4, -4, -4, 3, 3, -3, -3, 2, 2, -2, -2, 1, 1, -1, -1, 0, 0, 0, 0]\n"
     ]
    },
    {
     "data": {
      "image/png": "[encoded data removed]",
      "text/plain": [
       "<Figure size 560x560 with 1 Axes>"
      ]
     },
     "metadata": {},
     "output_type": "display_data"
    }
   ],
   "source": [
    "def midptellipse(rx, ry, xc, yc):\n",
    "    x = 0\n",
    "    y = ry\n",
    "    xl, yl = [], []\n",
    "\n",
    "    # Initial decision parameter of region 1\n",
    "    d1 = (ry * ry) - (rx * rx * ry) + (0.25 * rx * rx)\n",
    "    dx = 2 * ry * ry * x\n",
    "    dy = 2 * rx * rx * y\n",
    "\n",
    "    # For region 1\n",
    "    while dx < dy:\n",
    "        # Print points based on 4-way symmetry\n",
    "        print(\"(\", x + xc, \",\", y + yc, \")\")\n",
    "        print(\"(\", -x + xc, \",\", y + yc, \")\")\n",
    "        print(\"(\", x + xc, \",\", -y + yc, \")\")\n",
    "        print(\"(\", -x + xc, \",\", -y + yc, \")\")\n",
    "        xl.append(x)\n",
    "        yl.append(y)\n",
    "        xl.append(-x)\n",
    "        yl.append(y)\n",
    "        xl.append(x)\n",
    "        yl.append(-y)\n",
    "        xl.append(-x)\n",
    "        yl.append(-y)\n",
    "        # Checking and updating value of\n",
    "        # decision parameter based on algorithm\n",
    "        if d1 < 0:\n",
    "            x += 1\n",
    "            dx = dx + (2 * ry * ry)\n",
    "            d1 = d1 + dx + (ry * ry)\n",
    "        else:\n",
    "            x += 1\n",
    "            y -= 1\n",
    "            dx = dx + (2 * ry * ry)\n",
    "            dy = dy - (2 * rx * rx)\n",
    "            d1 = d1 + dx - dy + (ry * ry)\n",
    "\n",
    "    # Decision parameter of region 2\n",
    "    d2 = (\n",
    "        ((ry * ry) * ((x + 0.5) * (x + 0.5)))\n",
    "        + ((rx * rx) * ((y - 1) * (y - 1)))\n",
    "        - (rx * rx * ry * ry)\n",
    "    )\n",
    "\n",
    "    # Plotting points of region 2\n",
    "    while y >= 0:\n",
    "        # printing points based on 4-way symmetry\n",
    "        print(\"(\", x + xc, \",\", y + yc, \")\")\n",
    "        print(\"(\", -x + xc, \",\", y + yc, \")\")\n",
    "        print(\"(\", x + xc, \",\", -y + yc, \")\")\n",
    "        print(\"(\", -x + xc, \",\", -y + yc, \")\")\n",
    "        xl.append(x)\n",
    "        yl.append(y)\n",
    "        xl.append(-x)\n",
    "        yl.append(y)\n",
    "        xl.append(x)\n",
    "        yl.append(-y)\n",
    "        xl.append(-x)\n",
    "        yl.append(-y)\n",
    "        # Checking and updating parameter\n",
    "        # value based on algorithm\n",
    "        if d2 > 0:\n",
    "            y -= 1\n",
    "            dy = dy - (2 * rx * rx)\n",
    "            d2 = d2 + (rx * rx) - dy\n",
    "        else:\n",
    "            y -= 1\n",
    "            x += 1\n",
    "            dx = dx + (2 * ry * ry)\n",
    "            dy = dy - (2 * rx * rx)\n",
    "            d2 = d2 + dx - dy + (rx * rx)\n",
    "\n",
    "    return xl, yl\n",
    "\n",
    "\n",
    "# Driver code\n",
    "\n",
    "# To draw a ellipse of major and\n",
    "# minor radius 15, 10 centered at (50, 50)\n",
    "xl, yl = midptellipse(10, 15, 50, 50)\n",
    "print(xl)\n",
    "print(yl)\n",
    "draw(xl, yl)"
   ]
  },
  {
   "cell_type": "code",
   "execution_count": null,
   "id": "cfc323da-fbe4-4754-a196-c1ec4135feba",
   "metadata": {
    "id": "cfc323da-fbe4-4754-a196-c1ec4135feba"
   },
   "outputs": [],
   "source": []
  }
 ],
 "metadata": {
  "@deathbeds/jupyterlab-fonts": {
   "styles": {
    ":root": {
     "--jp-content-font-size1": "18px"
    }
   }
  },
  "colab": {
   "provenance": [],
   "toc_visible": true
  },
  "kernelspec": {
   "display_name": "Python 3 (ipykernel)",
   "language": "python",
   "name": "python3"
  },
  "language_info": {
   "codemirror_mode": {
    "name": "ipython",
    "version": 3
   },
   "file_extension": ".py",
   "mimetype": "text/x-python",
   "name": "python",
   "nbconvert_exporter": "python",
   "pygments_lexer": "ipython3",
   "version": "3.13.5"
  },
  "widgets": {
   "application/vnd.jupyter.widget-state+json": {
    "state": {},
    "version_major": 2,
    "version_minor": 0
   }
  }
 },
 "nbformat": 4,
 "nbformat_minor": 5
}
