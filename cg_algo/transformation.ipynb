{
 "cells": [
  {
   "cell_type": "markdown",
   "metadata": {
    "id": "AZtvGTF_7C-V"
   },
   "source": [
    "# Transformation (Computer Graphics)\n",
    "\n",
    "\n",
    "\n"
   ]
  },
  {
   "cell_type": "code",
   "execution_count": 1,
   "metadata": {},
   "outputs": [],
   "source": [
    "import matplotlib.pyplot as plt\n",
    "import numpy as np"
   ]
  },
  {
   "cell_type": "markdown",
   "metadata": {
    "id": "wc3VwyvxLRm_"
   },
   "source": [
    "### drawing function"
   ]
  },
  {
   "cell_type": "code",
   "execution_count": 2,
   "metadata": {
    "id": "_9OMNdo-7b69"
   },
   "outputs": [],
   "source": [
    "def draw(data, title=\"Plot\"):\n",
    "    plt.figure(figsize=(6, 6), dpi=90)\n",
    "    for polygon_points in data:\n",
    "        # Close the polygon for plotting\n",
    "        closed_polygon = polygon_points + [polygon_points[0]]\n",
    "        x_coords = [p[0] for p in closed_polygon]\n",
    "        y_coords = [p[1] for p in closed_polygon]\n",
    "        plt.plot(x_coords, y_coords, marker=\"o\")\n",
    "\n",
    "    plt.axhline(0, color=\"grey\", lw=0.5)\n",
    "    plt.axvline(0, color=\"grey\", lw=0.5)\n",
    "    plt.xlabel(\"X-axis\"), plt.ylabel(\"Y-axis\")\n",
    "    plt.title(title)\n",
    "    plt.grid(True)\n",
    "    plt.axis(\"equal\")  # equal scaling for x and y axes\n",
    "    plt.legend([\"Original\", title])\n",
    "    plt.show()"
   ]
  },
  {
   "cell_type": "markdown",
   "metadata": {
    "id": "R4FyGuQuLVMZ"
   },
   "source": [
    "### transformation function"
   ]
  },
  {
   "cell_type": "code",
   "execution_count": 3,
   "metadata": {
    "id": "hYerYJXNRNTh"
   },
   "outputs": [],
   "source": [
    "# Function to apply a given transformation matrix to a single point\n",
    "def transform_1_point(point, transform_matrix):\n",
    "    # Convert point to homogeneous coordinates [x, y, 1]\n",
    "    point_homogeneous = np.array([point[0], point[1], 1])\n",
    "    # Apply the transformation\n",
    "    transformed_point_homogeneous = np.matmul(transform_matrix, point_homogeneous)\n",
    "    # Convert back to Cartesian coordinates [x, y]\n",
    "    transformed_point = np.round(transformed_point_homogeneous[:2], decimals=1)\n",
    "    return transformed_point\n",
    "\n",
    "\n",
    "# Function to apply a given transformation matrix to a list of points\n",
    "def apply_transformation(points, transform_matrix):\n",
    "    print(\"Transformation Matrix:------\\n\", translation_matrix)\n",
    "    print(\"Original points:------\\n\", points)\n",
    "    transformed_points = [\n",
    "        transform_1_point(point, transform_matrix) for point in points\n",
    "    ]\n",
    "    print(\"Transformed points:------\\n\", transformed_points)\n",
    "    return transformed_points"
   ]
  },
  {
   "cell_type": "markdown",
   "metadata": {
    "id": "MJHfRUzR7Oke"
   },
   "source": [
    "## Translation (move)"
   ]
  },
  {
   "cell_type": "markdown",
   "metadata": {
    "id": "0MS2BUJyLcik"
   },
   "source": [
    "### translation matrix\n"
   ]
  },
  {
   "cell_type": "code",
   "execution_count": 4,
   "metadata": {
    "id": "aa7fIbYBLkbg"
   },
   "outputs": [],
   "source": [
    "def get_translation_matrix(tx, ty):\n",
    "    return np.array(\n",
    "        [\n",
    "            [1, 0, tx],\n",
    "            [0, 1, ty],\n",
    "            [0, 0, 1],\n",
    "        ]\n",
    "    )"
   ]
  },
  {
   "cell_type": "markdown",
   "metadata": {
    "id": "gsl4VQ5TMSOv"
   },
   "source": [
    "### apply translation and visualize"
   ]
  },
  {
   "cell_type": "code",
   "execution_count": 5,
   "metadata": {
    "colab": {
     "base_uri": "https://localhost:8080/",
     "height": 701
    },
    "id": "wgpsPLz4AdsP",
    "outputId": "083ddae0-2163-4c81-f53c-f1374be8cd04"
   },
   "outputs": [
    {
     "name": "stdout",
     "output_type": "stream",
     "text": [
      "Transformation Matrix:------\n",
      " [[1 0 2]\n",
      " [0 1 3]\n",
      " [0 0 1]]\n",
      "Original points:------\n",
      " [(1, 1), (4, 1), (2, 3)]\n",
      "Transformed points:------\n",
      " [array([3, 4]), array([6, 4]), array([4, 6])]\n"
     ]
    },
    {
     "data": {
      "image/png": "[encoded data removed]",
      "text/plain": [
       "<Figure size 540x540 with 1 Axes>"
      ]
     },
     "metadata": {},
     "output_type": "display_data"
    }
   ],
   "source": [
    "# example with triangle\n",
    "triangle = [(1, 1), (4, 1), (2, 3)]\n",
    "\n",
    "translation_matrix = get_translation_matrix(tx=2, ty=3)\n",
    "# Translate the triangle using the generic apply_transformation function\n",
    "translated_triangle = apply_transformation(triangle, translation_matrix)\n",
    "\n",
    "# visualization\n",
    "draw([triangle, translated_triangle], \"Translation\")"
   ]
  },
  {
   "cell_type": "markdown",
   "metadata": {
    "id": "89AhCuKA7kV0"
   },
   "source": [
    "## Scaling"
   ]
  },
  {
   "cell_type": "markdown",
   "metadata": {
    "id": "AGdSX7ROMdqs"
   },
   "source": [
    "### Scaling  matrix\n"
   ]
  },
  {
   "cell_type": "code",
   "execution_count": 6,
   "metadata": {
    "id": "5bdUOyMPMdqz"
   },
   "outputs": [],
   "source": [
    "def get_scaling_matrix(sx, sy):\n",
    "    return np.array(\n",
    "        [\n",
    "            [sx, 0, 0],\n",
    "            [0, sy, 0],\n",
    "            [0, 0, 1],\n",
    "        ]\n",
    "    )"
   ]
  },
  {
   "cell_type": "markdown",
   "metadata": {
    "id": "pwxgTADqMhDK"
   },
   "source": [
    "### apply scaling and visualize"
   ]
  },
  {
   "cell_type": "code",
   "execution_count": 7,
   "metadata": {
    "colab": {
     "base_uri": "https://localhost:8080/",
     "height": 701
    },
    "id": "M2U2uv9kMhDM",
    "outputId": "518688c2-41a9-492d-b6ec-092fd4f8590f"
   },
   "outputs": [
    {
     "name": "stdout",
     "output_type": "stream",
     "text": [
      "Transformation Matrix:------\n",
      " [[1 0 2]\n",
      " [0 1 3]\n",
      " [0 0 1]]\n",
      "Original points:------\n",
      " [(1, 1), (4, 1), (2, 3)]\n",
      "Transformed points:------\n",
      " [array([2, 3]), array([8, 3]), array([4, 9])]\n"
     ]
    },
    {
     "data": {
      "image/png": "[encoded data removed]",
      "text/plain": [
       "<Figure size 540x540 with 1 Axes>"
      ]
     },
     "metadata": {},
     "output_type": "display_data"
    }
   ],
   "source": [
    "# example with triangle\n",
    "triangle = [(1, 1), (4, 1), (2, 3)]\n",
    "\n",
    "scaling_matrix = get_scaling_matrix(2, 3)\n",
    "# scale the triangle\n",
    "translated_triangle = apply_transformation(triangle, scaling_matrix)\n",
    "\n",
    "# Plotting the polygons\n",
    "# Using the refactored draw function\n",
    "draw([triangle, translated_triangle], \"Scaling\")"
   ]
  },
  {
   "cell_type": "markdown",
   "metadata": {
    "id": "AD8zzFnc7m46"
   },
   "source": [
    "## Rotation"
   ]
  },
  {
   "cell_type": "markdown",
   "metadata": {
    "id": "aaBUqaW_Sq_-"
   },
   "source": [
    "### rotation matrix and rotation factors"
   ]
  },
  {
   "cell_type": "code",
   "execution_count": 8,
   "metadata": {
    "id": "dXWOs2duSpUd"
   },
   "outputs": [],
   "source": [
    "def get_rotation_matrix(angle):\n",
    "    angle_rad = np.radians(angle)\n",
    "    return np.array(\n",
    "        [\n",
    "            [np.cos(angle_rad), -np.sin(angle_rad), 0],\n",
    "            [np.sin(angle_rad), np.cos(angle_rad), 0],\n",
    "            [0, 0, 1],\n",
    "        ]\n",
    "    )"
   ]
  },
  {
   "cell_type": "markdown",
   "metadata": {
    "id": "H_IaEZnaS1zA"
   },
   "source": [
    "### apply rotation and visualize"
   ]
  },
  {
   "cell_type": "code",
   "execution_count": 9,
   "metadata": {
    "colab": {
     "base_uri": "https://localhost:8080/",
     "height": 701
    },
    "id": "rGTXIxSyI32C",
    "outputId": "169bf27b-31ad-469d-a75d-c14e05051db8"
   },
   "outputs": [
    {
     "name": "stdout",
     "output_type": "stream",
     "text": [
      "Transformation Matrix:------\n",
      " [[1 0 2]\n",
      " [0 1 3]\n",
      " [0 0 1]]\n",
      "Original points:------\n",
      " [(1, 1), (4, 1), (2, 3)]\n",
      "Transformed points:------\n",
      " [array([0. , 1.4]), array([2.1, 3.5]), array([-0.7,  3.5])]\n"
     ]
    },
    {
     "data": {
      "image/png": "[encoded data removed]",
      "text/plain": [
       "<Figure size 540x540 with 1 Axes>"
      ]
     },
     "metadata": {},
     "output_type": "display_data"
    }
   ],
   "source": [
    "# example with triangle\n",
    "triangle = [(1, 1), (4, 1), (2, 3)]\n",
    "\n",
    "rotation_matrix = get_rotation_matrix(45)\n",
    "# Rotate the triangle\n",
    "rotated_triangle = apply_transformation(triangle, rotation_matrix)\n",
    "\n",
    "# Plotting the polygons\n",
    "draw([triangle, rotated_triangle], \"Rotation\")"
   ]
  }
 ],
 "metadata": {
  "colab": {
   "provenance": []
  },
  "kernelspec": {
   "display_name": "Python 3 (ipykernel)",
   "language": "python",
   "name": "python3"
  },
  "language_info": {
   "codemirror_mode": {
    "name": "ipython",
    "version": 3
   },
   "file_extension": ".py",
   "mimetype": "text/x-python",
   "name": "python",
   "nbconvert_exporter": "python",
   "pygments_lexer": "ipython3",
   "version": "3.13.5"
  },
  "widgets": {
   "application/vnd.jupyter.widget-state+json": {
    "state": {},
    "version_major": 2,
    "version_minor": 0
   }
  }
 },
 "nbformat": 4,
 "nbformat_minor": 4
}
