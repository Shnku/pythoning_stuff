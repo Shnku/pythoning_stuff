{
 "cells": [
  {
   "cell_type": "markdown",
   "id": "8b6fdb48",
   "metadata": {
    "papermill": {
     "duration": 0.003402,
     "end_time": "2025-04-22T03:54:44.208562",
     "exception": false,
     "start_time": "2025-04-22T03:54:44.205160",
     "status": "completed"
    },
    "tags": []
   },
   "source": [
    "**This notebook is an exercise in the [Introduction to Machine Learning](https://www.kaggle.com/learn/intro-to-machine-learning) course.  You can reference the tutorial at [this link](https://www.kaggle.com/dansbecker/underfitting-and-overfitting).**\n",
    "\n",
    "---\n"
   ]
  },
  {
   "cell_type": "markdown",
   "id": "c5b0017d",
   "metadata": {
    "papermill": {
     "duration": 0.002372,
     "end_time": "2025-04-22T03:54:44.213874",
     "exception": false,
     "start_time": "2025-04-22T03:54:44.211502",
     "status": "completed"
    },
    "tags": []
   },
   "source": [
    "## Recap\n",
    "You've built your first model, and now it's time to optimize the size of the tree to make better predictions. Run this cell to set up your coding environment where the previous step left off."
   ]
  },
  {
   "cell_type": "code",
   "execution_count": 1,
   "id": "84e3d837",
   "metadata": {
    "execution": {
     "iopub.execute_input": "2025-04-22T03:54:44.220526Z",
     "iopub.status.busy": "2025-04-22T03:54:44.220225Z",
     "iopub.status.idle": "2025-04-22T03:54:48.194480Z",
     "shell.execute_reply": "2025-04-22T03:54:48.193400Z"
    },
    "papermill": {
     "duration": 3.979852,
     "end_time": "2025-04-22T03:54:48.196346",
     "exception": false,
     "start_time": "2025-04-22T03:54:44.216494",
     "status": "completed"
    },
    "tags": []
   },
   "outputs": [
    {
     "name": "stdout",
     "output_type": "stream",
     "text": [
      "Validation MAE: 29,653\n",
      "\n",
      "Setup complete\n"
     ]
    }
   ],
   "source": [
    "# Code you have previously used to load data\n",
    "import pandas as pd\n",
    "from sklearn.metrics import mean_absolute_error\n",
    "from sklearn.model_selection import train_test_split\n",
    "from sklearn.tree import DecisionTreeRegressor\n",
    "\n",
    "\n",
    "# Path of the file to read\n",
    "iowa_file_path = '../input/home-data-for-ml-course/train.csv'\n",
    "\n",
    "home_data = pd.read_csv(iowa_file_path)\n",
    "# Create target object and call it y\n",
    "y = home_data.SalePrice\n",
    "# Create X\n",
    "features = ['LotArea', 'YearBuilt', '1stFlrSF', '2ndFlrSF', 'FullBath', 'BedroomAbvGr', 'TotRmsAbvGrd']\n",
    "X = home_data[features]\n",
    "\n",
    "# Split into validation and training data\n",
    "train_X, val_X, train_y, val_y = train_test_split(X, y, random_state=1)\n",
    "\n",
    "# Specify Model\n",
    "iowa_model = DecisionTreeRegressor(random_state=1)\n",
    "# Fit Model\n",
    "iowa_model.fit(train_X, train_y)\n",
    "\n",
    "# Make validation predictions and calculate mean absolute error\n",
    "val_predictions = iowa_model.predict(val_X)\n",
    "val_mae = mean_absolute_error(val_predictions, val_y)\n",
    "print(\"Validation MAE: {:,.0f}\".format(val_mae))\n",
    "\n",
    "# Set up code checking\n",
    "from learntools.core import binder\n",
    "binder.bind(globals())\n",
    "from learntools.machine_learning.ex5 import *\n",
    "print(\"\\nSetup complete\")"
   ]
  },
  {
   "cell_type": "markdown",
   "id": "4908cc8d",
   "metadata": {
    "papermill": {
     "duration": 0.002671,
     "end_time": "2025-04-22T03:54:48.201911",
     "exception": false,
     "start_time": "2025-04-22T03:54:48.199240",
     "status": "completed"
    },
    "tags": []
   },
   "source": [
    "# Exercises\n",
    "You could write the function `get_mae` yourself. For now, we'll supply it. This is the same function you read about in the previous lesson. Just run the cell below."
   ]
  },
  {
   "cell_type": "code",
   "execution_count": 2,
   "id": "b2654379",
   "metadata": {
    "execution": {
     "iopub.execute_input": "2025-04-22T03:54:48.208503Z",
     "iopub.status.busy": "2025-04-22T03:54:48.208166Z",
     "iopub.status.idle": "2025-04-22T03:54:48.213342Z",
     "shell.execute_reply": "2025-04-22T03:54:48.212427Z"
    },
    "papermill": {
     "duration": 0.010111,
     "end_time": "2025-04-22T03:54:48.214691",
     "exception": false,
     "start_time": "2025-04-22T03:54:48.204580",
     "status": "completed"
    },
    "tags": []
   },
   "outputs": [],
   "source": [
    "def get_mae(max_leaf_nodes, train_X, val_X, train_y, val_y):\n",
    "    model = DecisionTreeRegressor(max_leaf_nodes=max_leaf_nodes, random_state=0)\n",
    "    model.fit(train_X, train_y)\n",
    "    preds_val = model.predict(val_X)\n",
    "    mae = mean_absolute_error(val_y, preds_val)\n",
    "    return(mae)"
   ]
  },
  {
   "cell_type": "markdown",
   "id": "a6279b9c",
   "metadata": {
    "papermill": {
     "duration": 0.00247,
     "end_time": "2025-04-22T03:54:48.219990",
     "exception": false,
     "start_time": "2025-04-22T03:54:48.217520",
     "status": "completed"
    },
    "tags": []
   },
   "source": [
    "## Step 1: Compare Different Tree Sizes\n",
    "Write a loop that tries the following values for *max_leaf_nodes* from a set of possible values.\n",
    "\n",
    "Call the *get_mae* function on each value of max_leaf_nodes. Store the output in some way that allows you to select the value of `max_leaf_nodes` that gives the most accurate model on your data."
   ]
  },
  {
   "cell_type": "code",
   "execution_count": 3,
   "id": "6a051d3a",
   "metadata": {
    "execution": {
     "iopub.execute_input": "2025-04-22T03:54:48.228001Z",
     "iopub.status.busy": "2025-04-22T03:54:48.227620Z",
     "iopub.status.idle": "2025-04-22T03:54:48.274364Z",
     "shell.execute_reply": "2025-04-22T03:54:48.273337Z"
    },
    "papermill": {
     "duration": 0.052018,
     "end_time": "2025-04-22T03:54:48.276045",
     "exception": false,
     "start_time": "2025-04-22T03:54:48.224027",
     "status": "completed"
    },
    "tags": []
   },
   "outputs": [
    {
     "name": "stdout",
     "output_type": "stream",
     "text": [
      "35045.0\n",
      "29016.0\n",
      "27406.0\n",
      "27283.0\n",
      "27894.0\n",
      "29454.0\n",
      "[5, 25, 50, 100, 250, 500] \n",
      " [35045.0, 29016.0, 27406.0, 27283.0, 27894.0, 29454.0]\n",
      "min is: 27283.0 min index is 3\n",
      "best tree size= 100\n"
     ]
    },
    {
     "data": {
      "application/javascript": [
       "parent.postMessage({\"jupyterEvent\": \"custom.exercise_interaction\", \"data\": {\"outcomeType\": 1, \"valueTowardsCompletion\": 0.5, \"interactionType\": 1, \"questionType\": 1, \"questionId\": \"1_BestTreeSize\", \"learnToolsVersion\": \"0.3.5\", \"failureMessage\": \"\", \"exceptionClass\": \"\", \"trace\": \"\"}}, \"*\")"
      ],
      "text/plain": [
       "<IPython.core.display.Javascript object>"
      ]
     },
     "metadata": {},
     "output_type": "display_data"
    },
    {
     "data": {
      "text/markdown": [
       "<span style=\"color:#33cc33\">Correct</span>"
      ],
      "text/plain": [
       "Correct"
      ]
     },
     "metadata": {},
     "output_type": "display_data"
    }
   ],
   "source": [
    "candidate_max_leaf_nodes = [5, 25, 50, 100, 250, 500]\n",
    "# Write loop to find the ideal tree size from candidate_max_leaf_nodes\n",
    "out=[]\n",
    "for i in candidate_max_leaf_nodes:\n",
    "    v=get_mae(i,train_X,val_X,train_y,val_y)\n",
    "    out.append(v.round())\n",
    "    print(v.round())\n",
    "\n",
    "print(candidate_max_leaf_nodes,'\\n',out)\n",
    "\n",
    "# Store the best value of max_leaf_nodes (it will be either 5, 25, 50, 100, 250 or 500)\n",
    "print(f'min is: {min(out)} min index is {out.index(min(out))}')\n",
    "best_tree_size = candidate_max_leaf_nodes[out.index(min(out))]\n",
    "print(f'best tree size= {best_tree_size}')\n",
    "# Check your answer\n",
    "step_1.check()"
   ]
  },
  {
   "cell_type": "code",
   "execution_count": 4,
   "id": "99cd69b8",
   "metadata": {
    "execution": {
     "iopub.execute_input": "2025-04-22T03:54:48.284281Z",
     "iopub.status.busy": "2025-04-22T03:54:48.283453Z",
     "iopub.status.idle": "2025-04-22T03:54:48.291146Z",
     "shell.execute_reply": "2025-04-22T03:54:48.290213Z"
    },
    "papermill": {
     "duration": 0.013313,
     "end_time": "2025-04-22T03:54:48.292639",
     "exception": false,
     "start_time": "2025-04-22T03:54:48.279326",
     "status": "completed"
    },
    "tags": []
   },
   "outputs": [
    {
     "data": {
      "application/javascript": [
       "parent.postMessage({\"jupyterEvent\": \"custom.exercise_interaction\", \"data\": {\"interactionType\": 2, \"questionType\": 1, \"questionId\": \"1_BestTreeSize\", \"learnToolsVersion\": \"0.3.5\", \"valueTowardsCompletion\": 0.0, \"failureMessage\": \"\", \"exceptionClass\": \"\", \"trace\": \"\", \"outcomeType\": 4}}, \"*\")"
      ],
      "text/plain": [
       "<IPython.core.display.Javascript object>"
      ]
     },
     "metadata": {},
     "output_type": "display_data"
    },
    {
     "data": {
      "text/markdown": [
       "<span style=\"color:#3366cc\">Hint:</span> You will call get_mae in the loop. You'll need to map the names of your data structure to the names in get_mae"
      ],
      "text/plain": [
       "Hint: You will call get_mae in the loop. You'll need to map the names of your data structure to the names in get_mae"
      ]
     },
     "metadata": {},
     "output_type": "display_data"
    }
   ],
   "source": [
    "# The lines below will show you a hint or the solution.\n",
    "step_1.hint() \n",
    "# step_1.solution()"
   ]
  },
  {
   "cell_type": "markdown",
   "id": "40e76359",
   "metadata": {
    "papermill": {
     "duration": 0.003014,
     "end_time": "2025-04-22T03:54:48.299203",
     "exception": false,
     "start_time": "2025-04-22T03:54:48.296189",
     "status": "completed"
    },
    "tags": []
   },
   "source": [
    "## Step 2: Fit Model Using All Data\n",
    "You know the best tree size. If you were going to deploy this model in practice, you would make it even more accurate by using all of the data and keeping that tree size.  That is, you don't need to hold out the validation data now that you've made all your modeling decisions."
   ]
  },
  {
   "cell_type": "code",
   "execution_count": 5,
   "id": "67594ba3",
   "metadata": {
    "execution": {
     "iopub.execute_input": "2025-04-22T03:54:48.306613Z",
     "iopub.status.busy": "2025-04-22T03:54:48.306298Z",
     "iopub.status.idle": "2025-04-22T03:54:48.321075Z",
     "shell.execute_reply": "2025-04-22T03:54:48.320169Z"
    },
    "papermill": {
     "duration": 0.020359,
     "end_time": "2025-04-22T03:54:48.322655",
     "exception": false,
     "start_time": "2025-04-22T03:54:48.302296",
     "status": "completed"
    },
    "tags": []
   },
   "outputs": [
    {
     "data": {
      "application/javascript": [
       "parent.postMessage({\"jupyterEvent\": \"custom.exercise_interaction\", \"data\": {\"outcomeType\": 1, \"valueTowardsCompletion\": 0.5, \"interactionType\": 1, \"questionType\": 2, \"questionId\": \"2_FitModelWithAllData\", \"learnToolsVersion\": \"0.3.5\", \"failureMessage\": \"\", \"exceptionClass\": \"\", \"trace\": \"\"}}, \"*\")"
      ],
      "text/plain": [
       "<IPython.core.display.Javascript object>"
      ]
     },
     "metadata": {},
     "output_type": "display_data"
    },
    {
     "data": {
      "text/markdown": [
       "<span style=\"color:#33cc33\">Correct</span>"
      ],
      "text/plain": [
       "Correct"
      ]
     },
     "metadata": {},
     "output_type": "display_data"
    }
   ],
   "source": [
    "# Fill in argument to make optimal size and uncomment\n",
    "final_model = DecisionTreeRegressor(max_leaf_nodes=100,random_state=0)\n",
    "\n",
    "# fit the final model and uncomment the next two lines\n",
    "final_model.fit(X,y)\n",
    "\n",
    "# Check your answe0\n",
    "step_2.check()"
   ]
  },
  {
   "cell_type": "code",
   "execution_count": 6,
   "id": "e16fb6b4",
   "metadata": {
    "execution": {
     "iopub.execute_input": "2025-04-22T03:54:48.330824Z",
     "iopub.status.busy": "2025-04-22T03:54:48.330516Z",
     "iopub.status.idle": "2025-04-22T03:54:48.337281Z",
     "shell.execute_reply": "2025-04-22T03:54:48.336438Z"
    },
    "papermill": {
     "duration": 0.012683,
     "end_time": "2025-04-22T03:54:48.338819",
     "exception": false,
     "start_time": "2025-04-22T03:54:48.326136",
     "status": "completed"
    },
    "tags": []
   },
   "outputs": [
    {
     "data": {
      "application/javascript": [
       "parent.postMessage({\"jupyterEvent\": \"custom.exercise_interaction\", \"data\": {\"interactionType\": 2, \"questionType\": 2, \"questionId\": \"2_FitModelWithAllData\", \"learnToolsVersion\": \"0.3.5\", \"valueTowardsCompletion\": 0.0, \"failureMessage\": \"\", \"exceptionClass\": \"\", \"trace\": \"\", \"outcomeType\": 4}}, \"*\")"
      ],
      "text/plain": [
       "<IPython.core.display.Javascript object>"
      ]
     },
     "metadata": {},
     "output_type": "display_data"
    },
    {
     "data": {
      "text/markdown": [
       "<span style=\"color:#3366cc\">Hint:</span> Fit with the ideal value of max_leaf_nodes. In the fit step, use all of the data in the dataset"
      ],
      "text/plain": [
       "Hint: Fit with the ideal value of max_leaf_nodes. In the fit step, use all of the data in the dataset"
      ]
     },
     "metadata": {},
     "output_type": "display_data"
    }
   ],
   "source": [
    "step_2.hint()\n",
    "# step_2.solution()"
   ]
  },
  {
   "cell_type": "markdown",
   "id": "c6cdb81a",
   "metadata": {
    "papermill": {
     "duration": 0.003237,
     "end_time": "2025-04-22T03:54:48.345706",
     "exception": false,
     "start_time": "2025-04-22T03:54:48.342469",
     "status": "completed"
    },
    "tags": []
   },
   "source": [
    "You've tuned this model and improved your results. But we are still using Decision Tree models, which are not very sophisticated by modern machine learning standards. In the next step you will learn to use Random Forests to improve your models even more.\n",
    "\n",
    "# Keep Going\n",
    "\n",
    "You are ready for **[Random Forests](https://www.kaggle.com/dansbecker/random-forests).**\n"
   ]
  },
  {
   "cell_type": "markdown",
   "id": "48aa376a",
   "metadata": {
    "papermill": {
     "duration": 0.00315,
     "end_time": "2025-04-22T03:54:48.352272",
     "exception": false,
     "start_time": "2025-04-22T03:54:48.349122",
     "status": "completed"
    },
    "tags": []
   },
   "source": [
    "---\n",
    "\n",
    "\n",
    "\n",
    "\n",
    "*Have questions or comments? Visit the [course discussion forum](https://www.kaggle.com/learn/intro-to-machine-learning/discussion) to chat with other learners.*"
   ]
  }
 ],
 "metadata": {
  "kaggle": {
   "accelerator": "none",
   "dataSources": [
    {
     "databundleVersionId": 111096,
     "sourceId": 10211,
     "sourceType": "competition"
    },
    {
     "datasetId": 11167,
     "sourceId": 15520,
     "sourceType": "datasetVersion"
    },
    {
     "datasetId": 2709,
     "sourceId": 38454,
     "sourceType": "datasetVersion"
    }
   ],
   "isGpuEnabled": false,
   "isInternetEnabled": false,
   "language": "python",
   "sourceType": "notebook"
  },
  "kernelspec": {
   "display_name": "Python 3",
   "language": "python",
   "name": "python3"
  },
  "language_info": {
   "codemirror_mode": {
    "name": "ipython",
    "version": 3
   },
   "file_extension": ".py",
   "mimetype": "text/x-python",
   "name": "python",
   "nbconvert_exporter": "python",
   "pygments_lexer": "ipython3",
   "version": "3.11.11"
  },
  "papermill": {
   "default_parameters": {},
   "duration": 9.810663,
   "end_time": "2025-04-22T03:54:49.076326",
   "environment_variables": {},
   "exception": null,
   "input_path": "__notebook__.ipynb",
   "output_path": "__notebook__.ipynb",
   "parameters": {},
   "start_time": "2025-04-22T03:54:39.265663",
   "version": "2.6.0"
  }
 },
 "nbformat": 4,
 "nbformat_minor": 5
}
