{
 "cells": [
  {
   "cell_type": "code",
   "execution_count": null,
   "id": "cf0d927a-f651-4ed6-914a-bffc2c2e689f",
   "metadata": {
    "editable": true,
    "slideshow": {
     "slide_type": ""
    },
    "tags": []
   },
   "outputs": [
    {
     "name": "stdout",
     "output_type": "stream",
     "text": [
      "skjbc\n",
      "0\n",
      "1\n"
     ]
    }
   ],
   "source": [
    "print(\"skjbc\")\n",
    "for i in range(2):\n",
    "    print(i)"
   ]
  },
  {
   "cell_type": "code",
   "execution_count": 4,
   "id": "8615d0ee-d401-41ee-9063-721e5de4b4aa",
   "metadata": {
    "editable": true,
    "scrolled": true,
    "slideshow": {
     "slide_type": ""
    },
    "tags": []
   },
   "outputs": [
    {
     "name": "stdout",
     "output_type": "stream",
     "text": [
      "dskjfhgfs\n",
      "hero\n",
      "ldncjk\n",
      "dsfndskjf\n",
      "0\n",
      "hi brohi brohi bro1\n",
      "hi brohi brohi brodsfndskjf\n",
      "0\n",
      "hi brohi brohi bro1\n",
      "hi brohi brohi bro"
     ]
    }
   ],
   "source": [
    "print(\"dskjfhgfs\")\n",
    "\n",
    "\n",
    "def hello():\n",
    "    print(\"dsfndskjf\")\n",
    "    for i in range(2):\n",
    "        print(i)\n",
    "        for k in range(abs(3)):\n",
    "            print(\"hi bro\", end=\"\")\n",
    "\n",
    "\n",
    "print(\"hero\")\n",
    "\n",
    "print(\"ldncjk\")\n",
    "\n",
    "hello()\n",
    "hello()"
   ]
  },
  {
   "cell_type": "code",
   "execution_count": null,
   "id": "e61ac21d-b643-4089-ac23-04a6c4937657",
   "metadata": {},
   "outputs": [],
   "source": []
  }
 ],
 "metadata": {
  "jupyter_suggestion": {},
  "kernelspec": {
   "display_name": "Python 3 (ipykernel)",
   "language": "python",
   "name": "python3"
  },
  "language_info": {
   "codemirror_mode": {
    "name": "ipython",
    "version": 3
   },
   "file_extension": ".py",
   "mimetype": "text/x-python",
   "name": "python",
   "nbconvert_exporter": "python",
   "pygments_lexer": "ipython3",
   "version": "3.11.11"
  },
  "widgets": {
   "application/vnd.jupyter.widget-state+json": {
    "state": {},
    "version_major": 2,
    "version_minor": 0
   }
  }
 },
 "nbformat": 4,
 "nbformat_minor": 5
}
