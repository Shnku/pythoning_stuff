{
 "cells": [
  {
   "cell_type": "code",
   "execution_count": 1,
   "id": "f6191a41-3d21-4ea6-8dc8-a0edff82ae3a",
   "metadata": {
    "editable": true,
    "slideshow": {
     "slide_type": ""
    },
    "tags": []
   },
   "outputs": [
    {
     "name": "stdout",
     "output_type": "stream",
     "text": [
      "skjbc\n",
      "0\n",
      "1\n"
     ]
    }
   ],
   "source": [
    "print('skjbc')\n",
    "for i in range(2):\n",
    "    print(i)"
   ]
  },
  {
   "cell_type": "code",
   "execution_count": 9,
   "id": "8615d0ee-d401-41ee-9063-721e5de4b4aa",
   "metadata": {
    "editable": true,
    "slideshow": {
     "slide_type": ""
    },
    "tags": []
   },
   "outputs": [
    {
     "name": "stdout",
     "output_type": "stream",
     "text": [
      "dskjfhgfs\n",
      "hero\n",
      "dsfndskjf\n",
      "012345678910111213141516171819202122dsfndskjf\n",
      "012345678910111213141516171819202122"
     ]
    }
   ],
   "source": [
    "print('dskjfhgfs')\n",
    "\n",
    "\n",
    "def hello():\n",
    "    print('dsfndskjf')\n",
    "    for i in range(23):\n",
    "        print(i, end='')\n",
    "\n",
    "\n",
    "print(\"hero\")\n",
    "hello()\n",
    "hello()"
   ]
  },
  {
   "cell_type": "code",
   "execution_count": null,
   "id": "e61ac21d-b643-4089-ac23-04a6c4937657",
   "metadata": {},
   "outputs": [],
   "source": []
  },
  {
   "cell_type": "code",
   "execution_count": null,
   "id": "f9d5104e-5250-491a-8a5f-ebb98a7a5fdd",
   "metadata": {},
   "outputs": [],
   "source": []
  }
 ],
 "metadata": {
  "kernelspec": {
   "display_name": "Python 3 (ipykernel)",
   "language": "python",
   "name": "python3"
  },
  "language_info": {
   "codemirror_mode": {
    "name": "ipython",
    "version": 3
   },
   "file_extension": ".py",
   "mimetype": "text/x-python",
   "name": "python",
   "nbconvert_exporter": "python",
   "pygments_lexer": "ipython3",
   "version": "3.11.11"
  }
 },
 "nbformat": 4,
 "nbformat_minor": 5
}
