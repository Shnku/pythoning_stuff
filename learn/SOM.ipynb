{
 "cells": [
  {
   "cell_type": "markdown",
   "id": "c0204e83-59bc-43dc-bb84-f4bb2bdc0d17",
   "metadata": {},
   "source": [
    "# Self-Organizing Map (SOM) \n",
    "\n",
    "***Algorithm---***\n",
    "\n",
    "1. **Randomize the node weight vectors in a map.**\n",
    "2. **For $s = 0, 1, 2, \\ldots, \\lambda$ (where $\\lambda$ is the iteration limit):**\n",
    "   - Randomly pick an input vector $D(t)$ from the input data set $\\mathbf{D}$.\n",
    "   - Find the node in the map closest to the input vector. This node is the best matching unit (BMU). Denote it by $u$.\n",
    "   - **For each node $v$, update its vector by pulling it closer to the input vector:**\n",
    "       - $$W_v(s + 1) = W_v(s) + \\theta(u, v, s) \\cdot \\alpha(s) \\cdot (D(t) - W_v(s))$$\n",
    "\n",
    "***Variable Definitions---***\n",
    "- $s$: Current iteration.\n",
    "- $\\lambda$: Iteration limit.\n",
    "- $t$: Index of the target input data vector in the input data set $\\mathbf{D}$.\n",
    "- $D(t)$: Target input data vector.\n",
    "- $v$: Index of the node in the map.\n",
    "- $W_v$: Current weight vector of node $v$.\n",
    "- $u$: Index of the best matching unit (BMU) in the map.\n",
    "- $\\theta(u, v, s)$: Neighborhood function.\n",
    "- $\\alpha(s)$: Learning rate schedule.\n",
    "\n",
    "***Key Design Choices---***\n",
    "- **Shape of the SOM**: Determines the layout of the nodes in the map.\n",
    "- **Neighborhood Function**: Ensures that the BMU is updated the most, its immediate neighbors are updated less, and so on.\n",
    "- **Learning Rate Schedule**: Starts with large updates at the beginning and gradually reduces the updates over time.\n"
   ]
  },
  {
   "cell_type": "code",
   "execution_count": 1,
   "id": "e20efef0-0697-4af7-bce7-520dcdf1af0d",
   "metadata": {},
   "outputs": [],
   "source": [
    "import matplotlib.pyplot as plt\n",
    "import numpy as np\n",
    "\n",
    "\n",
    "class SelfOrganizingMap:\n",
    "    def __init__(self, x_dim, y_dim, input_dim, learning_rate=0.5, sigma=None):\n",
    "        self.x_dim = x_dim  # Width of the SOM grid\n",
    "        self.y_dim = y_dim  # Height of the SOM grid\n",
    "        self.input_dim = input_dim  # Number of input features\n",
    "        self.learning_rate = learning_rate  # Learning rate\n",
    "        self.sigma = (\n",
    "            sigma if sigma is not None else max(x_dim, y_dim) / 2\n",
    "        )  # Neighborhood radius\n",
    "        self.weights = np.random.rand(x_dim, y_dim, input_dim)  # Initialize weights\n",
    "\n",
    "    def _neighborhood_function(self, bmu, iteration):\n",
    "        x, y = np.meshgrid(np.arange(self.x_dim), np.arange(self.y_dim))\n",
    "        distance = np.sqrt((x - bmu[0]) ** 2 + (y - bmu[1]) ** 2)\n",
    "        return np.exp(-distance / (2 * (self.sigma**2)))\n",
    "\n",
    "    def train(self, data, num_iterations):\n",
    "        for iteration in range(num_iterations):\n",
    "            for x in data:\n",
    "                # Find the Best Matching Unit (BMU)\n",
    "                bmu_index = self._find_bmu(x)\n",
    "                bmu = (bmu_index[0], bmu_index[1])\n",
    "\n",
    "                # Update weights\n",
    "                neighborhood = self._neighborhood_function(bmu, iteration)\n",
    "                self.weights += (\n",
    "                    self.learning_rate\n",
    "                    * neighborhood[:, :, np.newaxis]\n",
    "                    * (x - self.weights)\n",
    "                )\n",
    "\n",
    "            # Decrease the learning rate and sigma over time\n",
    "            self.learning_rate *= 1 - iteration / num_iterations\n",
    "            self.sigma *= 1 - iteration / num_iterations\n",
    "\n",
    "    # Find the Best Matching Unit for the input x.\n",
    "    def _find_bmu(self, x):\n",
    "        distances = np.linalg.norm(self.weights - x, axis=2)\n",
    "        return np.unravel_index(np.argmin(distances), distances.shape)\n",
    "\n",
    "    def get_weights(self):\n",
    "        return self.weights\n",
    "\n",
    "    def visualize_data(self, data, labels):\n",
    "        plt.figure(figsize=(3, 3))\n",
    "        plt.xlim(-1, self.x_dim)  # Set limits for x-axis\n",
    "        plt.ylim(-1, self.y_dim)  # Set limits for y-axis\n",
    "\n",
    "        # Get BMU coordinates for each data point\n",
    "        mapped = np.array([self._find_bmu(x) for x in data])\n",
    "\n",
    "        # Plot each data point on SOM grid at the coordinates of its corresponding BMU\n",
    "        for i, coord in enumerate(mapped):\n",
    "            plt.text(\n",
    "                coord[0],  # x-coordinate of the BMU\n",
    "                coord[1],  # y-coordinate of the BMU\n",
    "                str(labels[i]),\n",
    "                color=plt.cm.rainbow(labels[i] / np.max(labels)),\n",
    "                fontdict={\"weight\": \"bold\", \"size\": 9},\n",
    "                ha=\"center\",  # Center the text horizontally\n",
    "                va=\"center\",  # Center the text vertically\n",
    "            )  # Plot the class label as text at the BMU coordinate\n",
    "\n",
    "        plt.title(\"Data Mapped to SOM Grid\")  # Set the title of the plot\n",
    "        plt.grid(True)  # Display a grid on the plot\n",
    "        plt.show()"
   ]
  },
  {
   "cell_type": "code",
   "execution_count": 2,
   "id": "c9eadafb-7f58-4f7b-a969-46ff3324d616",
   "metadata": {},
   "outputs": [
    {
     "data": {
      "image/png": "[encoded data removed]",
      "text/plain": [
       "<Figure size 300x300 with 1 Axes>"
      ]
     },
     "metadata": {},
     "output_type": "display_data"
    }
   ],
   "source": [
    "# Example usage\n",
    "if __name__ == \"__main__\":\n",
    "    # Define input data for XOR\n",
    "    data_xor = np.array([[0, 0], [0, 1], [1, 0], [1, 1]])\n",
    "    labels_xor = np.array([[0], [1], [1], [0]])  # Labels for XOR\n",
    "\n",
    "    # Create and train the SOM\n",
    "    som = SelfOrganizingMap(x_dim=2, y_dim=2, input_dim=2)\n",
    "    som.train(data_xor, num_iterations=100)\n",
    "\n",
    "    # Visualize the data mapped to the SOM grid\n",
    "    som.visualize_data(data_xor, labels_xor)"
   ]
  },
  {
   "cell_type": "code",
   "execution_count": 3,
   "id": "1eb5009d-9c3f-4e74-a70c-58d220994b78",
   "metadata": {},
   "outputs": [
    {
     "data": {
      "image/png": "[encoded data removed]",
      "text/plain": [
       "<Figure size 300x300 with 1 Axes>"
      ]
     },
     "metadata": {},
     "output_type": "display_data"
    }
   ],
   "source": [
    "# Define the input data for AND,\n",
    "data_and = np.array([[0, 0], [0, 1], [1, 0], [1, 1]])\n",
    "labels_and = np.array([[0], [0], [0], [1]])  # AND outputs\n",
    "\n",
    "# Create and train the SOM\n",
    "som = SelfOrganizingMap(x_dim=2, y_dim=2, input_dim=2, sigma=1.0)\n",
    "som.train(data_and, num_iterations=100)\n",
    "\n",
    "# Visualize the data mapped to the SOM grid\n",
    "som.visualize_data(data_and, labels_and)"
   ]
  },
  {
   "cell_type": "code",
   "execution_count": null,
   "id": "28b146e4-3fc7-4e91-9d20-04ea478503b6",
   "metadata": {},
   "outputs": [],
   "source": []
  }
 ],
 "metadata": {
  "kernelspec": {
   "display_name": "Python 3 (ipykernel)",
   "language": "python",
   "name": "python3"
  },
  "language_info": {
   "codemirror_mode": {
    "name": "ipython",
    "version": 3
   },
   "file_extension": ".py",
   "mimetype": "text/x-python",
   "name": "python",
   "nbconvert_exporter": "python",
   "pygments_lexer": "ipython3",
   "version": "3.13.5"
  },
  "widgets": {
   "application/vnd.jupyter.widget-state+json": {
    "state": {},
    "version_major": 2,
    "version_minor": 0
   }
  }
 },
 "nbformat": 4,
 "nbformat_minor": 5
}
