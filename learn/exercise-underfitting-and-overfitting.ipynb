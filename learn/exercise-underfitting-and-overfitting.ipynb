{
 "cells": [
  {
   "cell_type": "markdown",
   "id": "886108cd",
   "metadata": {
    "papermill": {
     "duration": 0.003267,
     "end_time": "2025-04-22T03:58:19.355798",
     "exception": false,
     "start_time": "2025-04-22T03:58:19.352531",
     "status": "completed"
    },
    "tags": []
   },
   "source": [
    "**This notebook is an exercise in the [Introduction to Machine Learning](https://www.kaggle.com/learn/intro-to-machine-learning) course.  You can reference the tutorial at [this link](https://www.kaggle.com/dansbecker/underfitting-and-overfitting).**\n",
    "\n",
    "---\n"
   ]
  },
  {
   "cell_type": "markdown",
   "id": "65dc1b06",
   "metadata": {
    "papermill": {
     "duration": 0.0024,
     "end_time": "2025-04-22T03:58:19.361106",
     "exception": false,
     "start_time": "2025-04-22T03:58:19.358706",
     "status": "completed"
    },
    "tags": []
   },
   "source": [
    "## Recap\n",
    "You've built your first model, and now it's time to optimize the size of the tree to make better predictions. Run this cell to set up your coding environment where the previous step left off."
   ]
  },
  {
   "cell_type": "code",
   "execution_count": 1,
   "id": "5dac43e1",
   "metadata": {
    "execution": {
     "iopub.execute_input": "2025-04-22T03:58:19.367504Z",
     "iopub.status.busy": "2025-04-22T03:58:19.367193Z",
     "iopub.status.idle": "2025-04-22T03:58:22.852875Z",
     "shell.execute_reply": "2025-04-22T03:58:22.851836Z"
    },
    "papermill": {
     "duration": 3.490757,
     "end_time": "2025-04-22T03:58:22.854379",
     "exception": false,
     "start_time": "2025-04-22T03:58:19.363622",
     "status": "completed"
    },
    "tags": []
   },
   "outputs": [
    {
     "name": "stdout",
     "output_type": "stream",
     "text": [
      "Validation MAE: 29,653\n",
      "\n",
      "Setup complete\n"
     ]
    }
   ],
   "source": [
    "# Code you have previously used to load data\n",
    "import pandas as pd\n",
    "from sklearn.metrics import mean_absolute_error\n",
    "from sklearn.model_selection import train_test_split\n",
    "from sklearn.tree import DecisionTreeRegressor\n",
    "\n",
    "\n",
    "# Path of the file to read\n",
    "iowa_file_path = '../input/home-data-for-ml-course/train.csv'\n",
    "\n",
    "home_data = pd.read_csv(iowa_file_path)\n",
    "# Create target object and call it y\n",
    "y = home_data.SalePrice\n",
    "# Create X\n",
    "features = ['LotArea', 'YearBuilt', '1stFlrSF', '2ndFlrSF', 'FullBath', 'BedroomAbvGr', 'TotRmsAbvGrd']\n",
    "X = home_data[features]\n",
    "\n",
    "# Split into validation and training data\n",
    "train_X, val_X, train_y, val_y = train_test_split(X, y, random_state=1)\n",
    "\n",
    "# Specify Model\n",
    "iowa_model = DecisionTreeRegressor(random_state=1)\n",
    "# Fit Model\n",
    "iowa_model.fit(train_X, train_y)\n",
    "\n",
    "# Make validation predictions and calculate mean absolute error\n",
    "val_predictions = iowa_model.predict(val_X)\n",
    "val_mae = mean_absolute_error(val_predictions, val_y)\n",
    "print(\"Validation MAE: {:,.0f}\".format(val_mae))\n",
    "\n",
    "# Set up code checking\n",
    "from learntools.core import binder\n",
    "binder.bind(globals())\n",
    "from learntools.machine_learning.ex5 import *\n",
    "print(\"\\nSetup complete\")"
   ]
  },
  {
   "cell_type": "markdown",
   "id": "73914acb",
   "metadata": {
    "papermill": {
     "duration": 0.002491,
     "end_time": "2025-04-22T03:58:22.859714",
     "exception": false,
     "start_time": "2025-04-22T03:58:22.857223",
     "status": "completed"
    },
    "tags": []
   },
   "source": [
    "# Exercises\n",
    "You could write the function `get_mae` yourself. For now, we'll supply it. This is the same function you read about in the previous lesson. Just run the cell below."
   ]
  },
  {
   "cell_type": "code",
   "execution_count": 2,
   "id": "d5f8f8ff",
   "metadata": {
    "execution": {
     "iopub.execute_input": "2025-04-22T03:58:22.866632Z",
     "iopub.status.busy": "2025-04-22T03:58:22.866081Z",
     "iopub.status.idle": "2025-04-22T03:58:22.871029Z",
     "shell.execute_reply": "2025-04-22T03:58:22.870152Z"
    },
    "papermill": {
     "duration": 0.009763,
     "end_time": "2025-04-22T03:58:22.872447",
     "exception": false,
     "start_time": "2025-04-22T03:58:22.862684",
     "status": "completed"
    },
    "tags": []
   },
   "outputs": [],
   "source": [
    "def get_mae(max_leaf_nodes, train_X, val_X, train_y, val_y):\n",
    "    model = DecisionTreeRegressor(max_leaf_nodes=max_leaf_nodes, random_state=0)\n",
    "    model.fit(train_X, train_y)\n",
    "    preds_val = model.predict(val_X)\n",
    "    mae = mean_absolute_error(val_y, preds_val)\n",
    "    return(mae)"
   ]
  },
  {
   "cell_type": "markdown",
   "id": "bd8e27f8",
   "metadata": {
    "papermill": {
     "duration": 0.002359,
     "end_time": "2025-04-22T03:58:22.877490",
     "exception": false,
     "start_time": "2025-04-22T03:58:22.875131",
     "status": "completed"
    },
    "tags": []
   },
   "source": [
    "## Step 1: Compare Different Tree Sizes\n",
    "Write a loop that tries the following values for *max_leaf_nodes* from a set of possible values.\n",
    "\n",
    "Call the *get_mae* function on each value of max_leaf_nodes. Store the output in some way that allows you to select the value of `max_leaf_nodes` that gives the most accurate model on your data."
   ]
  },
  {
   "cell_type": "code",
   "execution_count": 3,
   "id": "5c06fef1",
   "metadata": {
    "execution": {
     "iopub.execute_input": "2025-04-22T03:58:22.885072Z",
     "iopub.status.busy": "2025-04-22T03:58:22.884340Z",
     "iopub.status.idle": "2025-04-22T03:58:22.930396Z",
     "shell.execute_reply": "2025-04-22T03:58:22.929460Z"
    },
    "papermill": {
     "duration": 0.05061,
     "end_time": "2025-04-22T03:58:22.931688",
     "exception": false,
     "start_time": "2025-04-22T03:58:22.881078",
     "status": "completed"
    },
    "tags": []
   },
   "outputs": [
    {
     "name": "stdout",
     "output_type": "stream",
     "text": [
      "35045.0\n",
      "29016.0\n",
      "27406.0\n",
      "27283.0\n",
      "27894.0\n",
      "29454.0\n",
      "[5, 25, 50, 100, 250, 500] \n",
      " [35045.0, 29016.0, 27406.0, 27283.0, 27894.0, 29454.0]\n",
      "min is: 27283.0 min index is 3\n",
      "best tree size= 100\n"
     ]
    },
    {
     "data": {
      "application/javascript": [
       "parent.postMessage({\"jupyterEvent\": \"custom.exercise_interaction\", \"data\": {\"outcomeType\": 1, \"valueTowardsCompletion\": 0.5, \"interactionType\": 1, \"questionType\": 1, \"questionId\": \"1_BestTreeSize\", \"learnToolsVersion\": \"0.3.5\", \"failureMessage\": \"\", \"exceptionClass\": \"\", \"trace\": \"\"}}, \"*\")"
      ],
      "text/plain": [
       "<IPython.core.display.Javascript object>"
      ]
     },
     "metadata": {},
     "output_type": "display_data"
    },
    {
     "data": {
      "text/markdown": [
       "<span style=\"color:#33cc33\">Correct</span>"
      ],
      "text/plain": [
       "Correct"
      ]
     },
     "metadata": {},
     "output_type": "display_data"
    }
   ],
   "source": [
    "candidate_max_leaf_nodes = [5, 25, 50, 100, 250, 500]\n",
    "# Write loop to find the ideal tree size from candidate_max_leaf_nodes\n",
    "out=[]\n",
    "for i in candidate_max_leaf_nodes:\n",
    "    v=get_mae(i,train_X,val_X,train_y,val_y)\n",
    "    out.append(v.round())\n",
    "    print(v.round())\n",
    "\n",
    "print(candidate_max_leaf_nodes,'\\n',out)\n",
    "\n",
    "# Store the best value of max_leaf_nodes (it will be either 5, 25, 50, 100, 250 or 500)\n",
    "print(f'min is: {min(out)} min index is {out.index(min(out))}')\n",
    "best_tree_size = candidate_max_leaf_nodes[out.index(min(out))]\n",
    "print(f'best tree size= {best_tree_size}')\n",
    "# Check your answer\n",
    "step_1.check()"
   ]
  },
  {
   "cell_type": "code",
   "execution_count": 4,
   "id": "df6d621a",
   "metadata": {
    "execution": {
     "iopub.execute_input": "2025-04-22T03:58:22.941281Z",
     "iopub.status.busy": "2025-04-22T03:58:22.940499Z",
     "iopub.status.idle": "2025-04-22T03:58:22.947691Z",
     "shell.execute_reply": "2025-04-22T03:58:22.946945Z"
    },
    "papermill": {
     "duration": 0.013875,
     "end_time": "2025-04-22T03:58:22.948970",
     "exception": false,
     "start_time": "2025-04-22T03:58:22.935095",
     "status": "completed"
    },
    "tags": []
   },
   "outputs": [
    {
     "data": {
      "application/javascript": [
       "parent.postMessage({\"jupyterEvent\": \"custom.exercise_interaction\", \"data\": {\"interactionType\": 2, \"questionType\": 1, \"questionId\": \"1_BestTreeSize\", \"learnToolsVersion\": \"0.3.5\", \"valueTowardsCompletion\": 0.0, \"failureMessage\": \"\", \"exceptionClass\": \"\", \"trace\": \"\", \"outcomeType\": 4}}, \"*\")"
      ],
      "text/plain": [
       "<IPython.core.display.Javascript object>"
      ]
     },
     "metadata": {},
     "output_type": "display_data"
    },
    {
     "data": {
      "text/markdown": [
       "<span style=\"color:#3366cc\">Hint:</span> You will call get_mae in the loop. You'll need to map the names of your data structure to the names in get_mae"
      ],
      "text/plain": [
       "Hint: You will call get_mae in the loop. You'll need to map the names of your data structure to the names in get_mae"
      ]
     },
     "metadata": {},
     "output_type": "display_data"
    }
   ],
   "source": [
    "# The lines below will show you a hint or the solution.\n",
    "step_1.hint() \n",
    "# step_1.solution()"
   ]
  },
  {
   "cell_type": "markdown",
   "id": "ba4e2fd3",
   "metadata": {
    "papermill": {
     "duration": 0.003439,
     "end_time": "2025-04-22T03:58:22.956057",
     "exception": false,
     "start_time": "2025-04-22T03:58:22.952618",
     "status": "completed"
    },
    "tags": []
   },
   "source": [
    "## Step 2: Fit Model Using All Data\n",
    "You know the best tree size. If you were going to deploy this model in practice, you would make it even more accurate by using all of the data and keeping that tree size.  That is, you don't need to hold out the validation data now that you've made all your modeling decisions."
   ]
  },
  {
   "cell_type": "code",
   "execution_count": 5,
   "id": "5ec2d95e",
   "metadata": {
    "execution": {
     "iopub.execute_input": "2025-04-22T03:58:22.964823Z",
     "iopub.status.busy": "2025-04-22T03:58:22.964060Z",
     "iopub.status.idle": "2025-04-22T03:58:22.978682Z",
     "shell.execute_reply": "2025-04-22T03:58:22.977993Z"
    },
    "papermill": {
     "duration": 0.020397,
     "end_time": "2025-04-22T03:58:22.980085",
     "exception": false,
     "start_time": "2025-04-22T03:58:22.959688",
     "status": "completed"
    },
    "tags": []
   },
   "outputs": [
    {
     "data": {
      "application/javascript": [
       "parent.postMessage({\"jupyterEvent\": \"custom.exercise_interaction\", \"data\": {\"outcomeType\": 1, \"valueTowardsCompletion\": 0.5, \"interactionType\": 1, \"questionType\": 2, \"questionId\": \"2_FitModelWithAllData\", \"learnToolsVersion\": \"0.3.5\", \"failureMessage\": \"\", \"exceptionClass\": \"\", \"trace\": \"\"}}, \"*\")"
      ],
      "text/plain": [
       "<IPython.core.display.Javascript object>"
      ]
     },
     "metadata": {},
     "output_type": "display_data"
    },
    {
     "data": {
      "text/markdown": [
       "<span style=\"color:#33cc33\">Correct</span>"
      ],
      "text/plain": [
       "Correct"
      ]
     },
     "metadata": {},
     "output_type": "display_data"
    }
   ],
   "source": [
    "# Fill in argument to make optimal size and uncomment\n",
    "final_model = DecisionTreeRegressor(max_leaf_nodes=100,random_state=0)\n",
    "\n",
    "# fit the final model and uncomment the next two lines\n",
    "final_model.fit(X,y)\n",
    "\n",
    "# Check your answe0\n",
    "step_2.check()"
   ]
  },
  {
   "cell_type": "code",
   "execution_count": 6,
   "id": "6ba0dd10",
   "metadata": {
    "execution": {
     "iopub.execute_input": "2025-04-22T03:58:22.988077Z",
     "iopub.status.busy": "2025-04-22T03:58:22.987363Z",
     "iopub.status.idle": "2025-04-22T03:58:22.994563Z",
     "shell.execute_reply": "2025-04-22T03:58:22.993694Z"
    },
    "papermill": {
     "duration": 0.012639,
     "end_time": "2025-04-22T03:58:22.995968",
     "exception": false,
     "start_time": "2025-04-22T03:58:22.983329",
     "status": "completed"
    },
    "tags": []
   },
   "outputs": [
    {
     "data": {
      "application/javascript": [
       "parent.postMessage({\"jupyterEvent\": \"custom.exercise_interaction\", \"data\": {\"interactionType\": 2, \"questionType\": 2, \"questionId\": \"2_FitModelWithAllData\", \"learnToolsVersion\": \"0.3.5\", \"valueTowardsCompletion\": 0.0, \"failureMessage\": \"\", \"exceptionClass\": \"\", \"trace\": \"\", \"outcomeType\": 4}}, \"*\")"
      ],
      "text/plain": [
       "<IPython.core.display.Javascript object>"
      ]
     },
     "metadata": {},
     "output_type": "display_data"
    },
    {
     "data": {
      "text/markdown": [
       "<span style=\"color:#3366cc\">Hint:</span> Fit with the ideal value of max_leaf_nodes. In the fit step, use all of the data in the dataset"
      ],
      "text/plain": [
       "Hint: Fit with the ideal value of max_leaf_nodes. In the fit step, use all of the data in the dataset"
      ]
     },
     "metadata": {},
     "output_type": "display_data"
    }
   ],
   "source": [
    "step_2.hint()\n",
    "# step_2.solution()"
   ]
  },
  {
   "cell_type": "markdown",
   "id": "86db9bce",
   "metadata": {
    "papermill": {
     "duration": 0.003213,
     "end_time": "2025-04-22T03:58:23.003321",
     "exception": false,
     "start_time": "2025-04-22T03:58:23.000108",
     "status": "completed"
    },
    "tags": []
   },
   "source": [
    "You've tuned this model and improved your results. But we are still using Decision Tree models, which are not very sophisticated by modern machine learning standards. In the next step you will learn to use Random Forests to improve your models even more.\n",
    "\n",
    "# Keep Going\n",
    "\n",
    "You are ready for **[Random Forests](https://www.kaggle.com/dansbecker/random-forests).**\n"
   ]
  },
  {
   "cell_type": "markdown",
   "id": "b64d74d4",
   "metadata": {
    "papermill": {
     "duration": 0.006764,
     "end_time": "2025-04-22T03:58:23.019057",
     "exception": false,
     "start_time": "2025-04-22T03:58:23.012293",
     "status": "completed"
    },
    "tags": []
   },
   "source": [
    "---\n",
    "\n",
    "\n",
    "\n",
    "\n",
    "*Have questions or comments? Visit the [course discussion forum](https://www.kaggle.com/learn/intro-to-machine-learning/discussion) to chat with other learners.*"
   ]
  }
 ],
 "metadata": {
  "kaggle": {
   "accelerator": "none",
   "dataSources": [
    {
     "databundleVersionId": 111096,
     "sourceId": 10211,
     "sourceType": "competition"
    },
    {
     "datasetId": 11167,
     "sourceId": 15520,
     "sourceType": "datasetVersion"
    },
    {
     "datasetId": 2709,
     "sourceId": 38454,
     "sourceType": "datasetVersion"
    }
   ],
   "isGpuEnabled": false,
   "isInternetEnabled": false,
   "language": "python",
   "sourceType": "notebook"
  },
  "kernelspec": {
   "display_name": "Python 3",
   "language": "python",
   "name": "python3"
  },
  "language_info": {
   "codemirror_mode": {
    "name": "ipython",
    "version": 3
   },
   "file_extension": ".py",
   "mimetype": "text/x-python",
   "name": "python",
   "nbconvert_exporter": "python",
   "pygments_lexer": "ipython3",
   "version": "3.11.11"
  },
  "papermill": {
   "default_parameters": {},
   "duration": 11.076994,
   "end_time": "2025-04-22T03:58:25.864324",
   "environment_variables": {},
   "exception": null,
   "input_path": "__notebook__.ipynb",
   "output_path": "__notebook__.ipynb",
   "parameters": {},
   "start_time": "2025-04-22T03:58:14.787330",
   "version": "2.6.0"
  }
 },
 "nbformat": 4,
 "nbformat_minor": 5
}
