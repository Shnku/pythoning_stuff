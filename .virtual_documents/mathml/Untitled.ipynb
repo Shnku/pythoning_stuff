print("skjbc")
for i in range(2):
    print(i)


print("dskjfhgfs")


def hello():
    print("dsfndskjf")
    for i in range(2):
        print(i)
        for k in range(abs(3)):
            print("hi bro", end="")


print("hero")

print("ldncjk")

hello()
hello()



